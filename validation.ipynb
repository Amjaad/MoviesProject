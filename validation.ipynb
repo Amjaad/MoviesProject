{
 "cells": [
  {
   "cell_type": "code",
   "execution_count": 101,
   "metadata": {},
   "outputs": [],
   "source": [
    "import pandas as pd\n",
    "from sklearn import datasets, linear_model\n",
    "from sklearn.model_selection import train_test_split\n",
    "from matplotlib import pyplot as plt\n",
    "import seaborn as sns\n",
    "import numpy as np"
   ]
  },
  {
   "cell_type": "code",
   "execution_count": 67,
   "metadata": {},
   "outputs": [
    {
     "name": "stderr",
     "output_type": "stream",
     "text": [
      "/Users/amjad/anaconda/lib/python3.6/site-packages/IPython/core/interactiveshell.py:2717: DtypeWarning: Columns (5) have mixed types. Specify dtype option on import or set low_memory=False.\n",
      "  interactivity=interactivity, compiler=compiler, result=result)\n"
     ]
    },
    {
     "data": {
      "text/html": [
       "<div>\n",
       "<style>\n",
       "    .dataframe thead tr:only-child th {\n",
       "        text-align: right;\n",
       "    }\n",
       "\n",
       "    .dataframe thead th {\n",
       "        text-align: left;\n",
       "    }\n",
       "\n",
       "    .dataframe tbody tr th {\n",
       "        vertical-align: top;\n",
       "    }\n",
       "</style>\n",
       "<table border=\"1\" class=\"dataframe\">\n",
       "  <thead>\n",
       "    <tr style=\"text-align: right;\">\n",
       "      <th></th>\n",
       "      <th>tconst</th>\n",
       "      <th>titleType</th>\n",
       "      <th>primaryTitle</th>\n",
       "      <th>originalTitle</th>\n",
       "      <th>isAdult</th>\n",
       "      <th>startYear</th>\n",
       "      <th>endYear</th>\n",
       "      <th>runtimeMinutes</th>\n",
       "      <th>genres</th>\n",
       "      <th>averageRating</th>\n",
       "      <th>numVotes</th>\n",
       "    </tr>\n",
       "  </thead>\n",
       "  <tbody>\n",
       "    <tr>\n",
       "      <th>0</th>\n",
       "      <td>tt0000009</td>\n",
       "      <td>movie</td>\n",
       "      <td>Miss Jerry</td>\n",
       "      <td>Miss Jerry</td>\n",
       "      <td>0</td>\n",
       "      <td>1894</td>\n",
       "      <td>\\N</td>\n",
       "      <td>45</td>\n",
       "      <td>Romance</td>\n",
       "      <td>5.4</td>\n",
       "      <td>58</td>\n",
       "    </tr>\n",
       "    <tr>\n",
       "      <th>1</th>\n",
       "      <td>tt0000147</td>\n",
       "      <td>movie</td>\n",
       "      <td>The Corbett-Fitzsimmons Fight</td>\n",
       "      <td>The Corbett-Fitzsimmons Fight</td>\n",
       "      <td>0</td>\n",
       "      <td>1897</td>\n",
       "      <td>\\N</td>\n",
       "      <td>20</td>\n",
       "      <td>Documentary,News,Sport</td>\n",
       "      <td>5.2</td>\n",
       "      <td>236</td>\n",
       "    </tr>\n",
       "    <tr>\n",
       "      <th>3</th>\n",
       "      <td>tt0000574</td>\n",
       "      <td>movie</td>\n",
       "      <td>The Story of the Kelly Gang</td>\n",
       "      <td>The Story of the Kelly Gang</td>\n",
       "      <td>0</td>\n",
       "      <td>1906</td>\n",
       "      <td>\\N</td>\n",
       "      <td>70</td>\n",
       "      <td>Biography,Crime,Drama</td>\n",
       "      <td>6.4</td>\n",
       "      <td>413</td>\n",
       "    </tr>\n",
       "    <tr>\n",
       "      <th>4</th>\n",
       "      <td>tt0000584</td>\n",
       "      <td>movie</td>\n",
       "      <td>El ciego de la aldea</td>\n",
       "      <td>El ciego de la aldea</td>\n",
       "      <td>0</td>\n",
       "      <td>1907</td>\n",
       "      <td>\\N</td>\n",
       "      <td>75</td>\n",
       "      <td>Drama</td>\n",
       "      <td>4.8</td>\n",
       "      <td>35</td>\n",
       "    </tr>\n",
       "    <tr>\n",
       "      <th>9</th>\n",
       "      <td>tt0000679</td>\n",
       "      <td>movie</td>\n",
       "      <td>The Fairylogue and Radio-Plays</td>\n",
       "      <td>The Fairylogue and Radio-Plays</td>\n",
       "      <td>0</td>\n",
       "      <td>1908</td>\n",
       "      <td>\\N</td>\n",
       "      <td>120</td>\n",
       "      <td>Adventure,Fantasy</td>\n",
       "      <td>6.1</td>\n",
       "      <td>24</td>\n",
       "    </tr>\n",
       "    <tr>\n",
       "      <th>20</th>\n",
       "      <td>tt0001258</td>\n",
       "      <td>movie</td>\n",
       "      <td>The White Slave Trade</td>\n",
       "      <td>Den hvide slavehandel</td>\n",
       "      <td>0</td>\n",
       "      <td>1910</td>\n",
       "      <td>\\N</td>\n",
       "      <td>45</td>\n",
       "      <td>Drama</td>\n",
       "      <td>5.6</td>\n",
       "      <td>50</td>\n",
       "    </tr>\n",
       "    <tr>\n",
       "      <th>28</th>\n",
       "      <td>tt0001790</td>\n",
       "      <td>movie</td>\n",
       "      <td>Les Misérables, Part 1: Jean Valjean</td>\n",
       "      <td>Les misérables - Époque 1: Jean Valjean</td>\n",
       "      <td>0</td>\n",
       "      <td>1913</td>\n",
       "      <td>\\N</td>\n",
       "      <td>60</td>\n",
       "      <td>Drama</td>\n",
       "      <td>6.3</td>\n",
       "      <td>16</td>\n",
       "    </tr>\n",
       "    <tr>\n",
       "      <th>29</th>\n",
       "      <td>tt0001892</td>\n",
       "      <td>movie</td>\n",
       "      <td>Den sorte drøm</td>\n",
       "      <td>Den sorte drøm</td>\n",
       "      <td>0</td>\n",
       "      <td>1911</td>\n",
       "      <td>\\N</td>\n",
       "      <td>53</td>\n",
       "      <td>Drama</td>\n",
       "      <td>6.3</td>\n",
       "      <td>132</td>\n",
       "    </tr>\n",
       "    <tr>\n",
       "      <th>31</th>\n",
       "      <td>tt0001964</td>\n",
       "      <td>movie</td>\n",
       "      <td>The Traitress</td>\n",
       "      <td>Die Verräterin</td>\n",
       "      <td>0</td>\n",
       "      <td>1911</td>\n",
       "      <td>\\N</td>\n",
       "      <td>48</td>\n",
       "      <td>Drama</td>\n",
       "      <td>6.3</td>\n",
       "      <td>35</td>\n",
       "    </tr>\n",
       "    <tr>\n",
       "      <th>34</th>\n",
       "      <td>tt0002101</td>\n",
       "      <td>movie</td>\n",
       "      <td>Cleopatra</td>\n",
       "      <td>Cleopatra</td>\n",
       "      <td>0</td>\n",
       "      <td>1912</td>\n",
       "      <td>\\N</td>\n",
       "      <td>100</td>\n",
       "      <td>Drama,History</td>\n",
       "      <td>5.1</td>\n",
       "      <td>359</td>\n",
       "    </tr>\n",
       "    <tr>\n",
       "      <th>35</th>\n",
       "      <td>tt0002130</td>\n",
       "      <td>movie</td>\n",
       "      <td>Dante's Inferno</td>\n",
       "      <td>L'Inferno</td>\n",
       "      <td>0</td>\n",
       "      <td>1911</td>\n",
       "      <td>\\N</td>\n",
       "      <td>68</td>\n",
       "      <td>Adventure,Drama,Fantasy</td>\n",
       "      <td>7.0</td>\n",
       "      <td>1440</td>\n",
       "    </tr>\n",
       "    <tr>\n",
       "      <th>36</th>\n",
       "      <td>tt0002153</td>\n",
       "      <td>movie</td>\n",
       "      <td>Dødsspring til hest fra cirkuskuplen</td>\n",
       "      <td>Dødsspring til hest fra cirkuskuplen</td>\n",
       "      <td>0</td>\n",
       "      <td>1912</td>\n",
       "      <td>\\N</td>\n",
       "      <td>45</td>\n",
       "      <td>Drama</td>\n",
       "      <td>5.9</td>\n",
       "      <td>33</td>\n",
       "    </tr>\n",
       "    <tr>\n",
       "      <th>37</th>\n",
       "      <td>tt0002186</td>\n",
       "      <td>movie</td>\n",
       "      <td>The Flying Circus</td>\n",
       "      <td>Den flyvende cirkus</td>\n",
       "      <td>0</td>\n",
       "      <td>1912</td>\n",
       "      <td>\\N</td>\n",
       "      <td>46</td>\n",
       "      <td>Drama</td>\n",
       "      <td>6.6</td>\n",
       "      <td>58</td>\n",
       "    </tr>\n",
       "    <tr>\n",
       "      <th>38</th>\n",
       "      <td>tt0002199</td>\n",
       "      <td>movie</td>\n",
       "      <td>From the Manger to the Cross; or, Jesus of Naz...</td>\n",
       "      <td>From the Manger to the Cross; or, Jesus of Naz...</td>\n",
       "      <td>0</td>\n",
       "      <td>1912</td>\n",
       "      <td>\\N</td>\n",
       "      <td>60</td>\n",
       "      <td>Biography,Drama</td>\n",
       "      <td>5.8</td>\n",
       "      <td>375</td>\n",
       "    </tr>\n",
       "    <tr>\n",
       "      <th>42</th>\n",
       "      <td>tt0002423</td>\n",
       "      <td>movie</td>\n",
       "      <td>Madame DuBarry</td>\n",
       "      <td>Madame DuBarry</td>\n",
       "      <td>0</td>\n",
       "      <td>1919</td>\n",
       "      <td>\\N</td>\n",
       "      <td>85</td>\n",
       "      <td>Biography,Drama</td>\n",
       "      <td>6.9</td>\n",
       "      <td>556</td>\n",
       "    </tr>\n",
       "    <tr>\n",
       "      <th>43</th>\n",
       "      <td>tt0002445</td>\n",
       "      <td>movie</td>\n",
       "      <td>Quo Vadis?</td>\n",
       "      <td>Quo Vadis?</td>\n",
       "      <td>0</td>\n",
       "      <td>1913</td>\n",
       "      <td>\\N</td>\n",
       "      <td>120</td>\n",
       "      <td>Drama,History</td>\n",
       "      <td>6.4</td>\n",
       "      <td>184</td>\n",
       "    </tr>\n",
       "    <tr>\n",
       "      <th>44</th>\n",
       "      <td>tt0002452</td>\n",
       "      <td>movie</td>\n",
       "      <td>The Independence of Romania</td>\n",
       "      <td>Independenta Romaniei</td>\n",
       "      <td>0</td>\n",
       "      <td>1912</td>\n",
       "      <td>\\N</td>\n",
       "      <td>120</td>\n",
       "      <td>History,War</td>\n",
       "      <td>7.0</td>\n",
       "      <td>166</td>\n",
       "    </tr>\n",
       "    <tr>\n",
       "      <th>45</th>\n",
       "      <td>tt0002461</td>\n",
       "      <td>movie</td>\n",
       "      <td>The Life and Death of King Richard III</td>\n",
       "      <td>Richard III</td>\n",
       "      <td>0</td>\n",
       "      <td>1912</td>\n",
       "      <td>\\N</td>\n",
       "      <td>55</td>\n",
       "      <td>Drama</td>\n",
       "      <td>5.7</td>\n",
       "      <td>186</td>\n",
       "    </tr>\n",
       "    <tr>\n",
       "      <th>49</th>\n",
       "      <td>tt0002646</td>\n",
       "      <td>movie</td>\n",
       "      <td>Atlantis</td>\n",
       "      <td>Atlantis</td>\n",
       "      <td>0</td>\n",
       "      <td>1913</td>\n",
       "      <td>\\N</td>\n",
       "      <td>121</td>\n",
       "      <td>Drama</td>\n",
       "      <td>6.9</td>\n",
       "      <td>233</td>\n",
       "    </tr>\n",
       "    <tr>\n",
       "      <th>52</th>\n",
       "      <td>tt0002767</td>\n",
       "      <td>movie</td>\n",
       "      <td>The Count of Monte Cristo</td>\n",
       "      <td>The Count of Monte Cristo</td>\n",
       "      <td>0</td>\n",
       "      <td>1913</td>\n",
       "      <td>\\N</td>\n",
       "      <td>69</td>\n",
       "      <td>Drama,History</td>\n",
       "      <td>5.7</td>\n",
       "      <td>30</td>\n",
       "    </tr>\n",
       "  </tbody>\n",
       "</table>\n",
       "</div>"
      ],
      "text/plain": [
       "       tconst titleType                                       primaryTitle  \\\n",
       "0   tt0000009     movie                                         Miss Jerry   \n",
       "1   tt0000147     movie                      The Corbett-Fitzsimmons Fight   \n",
       "3   tt0000574     movie                        The Story of the Kelly Gang   \n",
       "4   tt0000584     movie                               El ciego de la aldea   \n",
       "9   tt0000679     movie                     The Fairylogue and Radio-Plays   \n",
       "20  tt0001258     movie                              The White Slave Trade   \n",
       "28  tt0001790     movie               Les Misérables, Part 1: Jean Valjean   \n",
       "29  tt0001892     movie                                     Den sorte drøm   \n",
       "31  tt0001964     movie                                      The Traitress   \n",
       "34  tt0002101     movie                                          Cleopatra   \n",
       "35  tt0002130     movie                                    Dante's Inferno   \n",
       "36  tt0002153     movie               Dødsspring til hest fra cirkuskuplen   \n",
       "37  tt0002186     movie                                  The Flying Circus   \n",
       "38  tt0002199     movie  From the Manger to the Cross; or, Jesus of Naz...   \n",
       "42  tt0002423     movie                                     Madame DuBarry   \n",
       "43  tt0002445     movie                                         Quo Vadis?   \n",
       "44  tt0002452     movie                        The Independence of Romania   \n",
       "45  tt0002461     movie             The Life and Death of King Richard III   \n",
       "49  tt0002646     movie                                           Atlantis   \n",
       "52  tt0002767     movie                          The Count of Monte Cristo   \n",
       "\n",
       "                                        originalTitle  isAdult startYear  \\\n",
       "0                                          Miss Jerry        0      1894   \n",
       "1                       The Corbett-Fitzsimmons Fight        0      1897   \n",
       "3                         The Story of the Kelly Gang        0      1906   \n",
       "4                                El ciego de la aldea        0      1907   \n",
       "9                      The Fairylogue and Radio-Plays        0      1908   \n",
       "20                              Den hvide slavehandel        0      1910   \n",
       "28            Les misérables - Époque 1: Jean Valjean        0      1913   \n",
       "29                                     Den sorte drøm        0      1911   \n",
       "31                                     Die Verräterin        0      1911   \n",
       "34                                          Cleopatra        0      1912   \n",
       "35                                          L'Inferno        0      1911   \n",
       "36               Dødsspring til hest fra cirkuskuplen        0      1912   \n",
       "37                                Den flyvende cirkus        0      1912   \n",
       "38  From the Manger to the Cross; or, Jesus of Naz...        0      1912   \n",
       "42                                     Madame DuBarry        0      1919   \n",
       "43                                         Quo Vadis?        0      1913   \n",
       "44                              Independenta Romaniei        0      1912   \n",
       "45                                        Richard III        0      1912   \n",
       "49                                           Atlantis        0      1913   \n",
       "52                          The Count of Monte Cristo        0      1913   \n",
       "\n",
       "   endYear runtimeMinutes                   genres  averageRating  numVotes  \n",
       "0       \\N             45                  Romance            5.4        58  \n",
       "1       \\N             20   Documentary,News,Sport            5.2       236  \n",
       "3       \\N             70    Biography,Crime,Drama            6.4       413  \n",
       "4       \\N             75                    Drama            4.8        35  \n",
       "9       \\N            120        Adventure,Fantasy            6.1        24  \n",
       "20      \\N             45                    Drama            5.6        50  \n",
       "28      \\N             60                    Drama            6.3        16  \n",
       "29      \\N             53                    Drama            6.3       132  \n",
       "31      \\N             48                    Drama            6.3        35  \n",
       "34      \\N            100            Drama,History            5.1       359  \n",
       "35      \\N             68  Adventure,Drama,Fantasy            7.0      1440  \n",
       "36      \\N             45                    Drama            5.9        33  \n",
       "37      \\N             46                    Drama            6.6        58  \n",
       "38      \\N             60          Biography,Drama            5.8       375  \n",
       "42      \\N             85          Biography,Drama            6.9       556  \n",
       "43      \\N            120            Drama,History            6.4       184  \n",
       "44      \\N            120              History,War            7.0       166  \n",
       "45      \\N             55                    Drama            5.7       186  \n",
       "49      \\N            121                    Drama            6.9       233  \n",
       "52      \\N             69            Drama,History            5.7        30  "
      ]
     },
     "execution_count": 67,
     "metadata": {},
     "output_type": "execute_result"
    }
   ],
   "source": [
    "df = pd.read_csv('data/movie_title_ratings.csv')\n",
    "df = df[df.runtimeMinutes!=\"\\\\N\"]\n",
    "df= df[df.startYear!=\"\\\\N\"]\n",
    "X = df[[\"runtimeMinutes\",\"numVotes\"]]\n",
    "y = df.averageRating\n",
    "df.head(20)"
   ]
  },
  {
   "cell_type": "code",
   "execution_count": 94,
   "metadata": {},
   "outputs": [
    {
     "data": {
      "text/plain": [
       "tconst             object\n",
       "titleType          object\n",
       "primaryTitle       object\n",
       "originalTitle      object\n",
       "isAdult             int64\n",
       "startYear           int64\n",
       "endYear            object\n",
       "runtimeMinutes      int64\n",
       "genres             object\n",
       "averageRating     float64\n",
       "numVotes            int64\n",
       "dtype: object"
      ]
     },
     "execution_count": 94,
     "metadata": {},
     "output_type": "execute_result"
    }
   ],
   "source": [
    "df['runtimeMinutes']=df['runtimeMinutes'].astype(str).astype(int)\n",
    "df['startYear']=df['startYear'].astype(str).astype(int)\n",
    "df.dtypes"
   ]
  },
  {
   "cell_type": "code",
   "execution_count": 98,
   "metadata": {},
   "outputs": [
    {
     "data": {
      "image/png": "[encoded data removed]",
      "text/plain": [
       "<matplotlib.figure.Figure at 0x1233db320>"
      ]
     },
     "metadata": {},
     "output_type": "display_data"
    }
   ],
   "source": [
    "df.hist()\n",
    "plt.show()"
   ]
  },
  {
   "cell_type": "code",
   "execution_count": 68,
   "metadata": {},
   "outputs": [
    {
     "name": "stdout",
     "output_type": "stream",
     "text": [
      "(137428, 2) (137428,)\n",
      "(34358, 2) (34358,)\n"
     ]
    }
   ],
   "source": [
    "# create training and testing vars\n",
    "X_train, X_test, y_train, y_test = train_test_split(X, y, test_size=0.2)\n",
    "print(X_train.shape, y_train.shape)\n",
    "print(X_test.shape, y_test.shape)\n"
   ]
  },
  {
   "cell_type": "code",
   "execution_count": 69,
   "metadata": {},
   "outputs": [],
   "source": [
    "# fit a model\n",
    "lm = linear_model.LinearRegression()\n",
    "model = lm.fit(X_train, y_train)\n",
    "predictions = lm.predict(X_test)"
   ]
  },
  {
   "cell_type": "code",
   "execution_count": 70,
   "metadata": {},
   "outputs": [
    {
     "data": {
      "text/plain": [
       "array([ 6.27056688,  6.2726896 ,  6.28974019,  6.26195453,  6.25399046])"
      ]
     },
     "execution_count": 70,
     "metadata": {},
     "output_type": "execute_result"
    }
   ],
   "source": [
    "predictions[0:5]"
   ]
  },
  {
   "cell_type": "code",
   "execution_count": 71,
   "metadata": {},
   "outputs": [
    {
     "data": {
      "image/png": "[encoded data removed]",
      "text/plain": [
       "<matplotlib.figure.Figure at 0x128465e10>"
      ]
     },
     "metadata": {},
     "output_type": "display_data"
    }
   ],
   "source": [
    "## The line / model\n",
    "plt.scatter(y_test, predictions)\n",
    "plt.xlabel(\"True Values\")\n",
    "plt.ylabel(\"Predictions\")\n",
    "plt.show()"
   ]
  },
  {
   "cell_type": "code",
   "execution_count": 72,
   "metadata": {},
   "outputs": [
    {
     "name": "stdout",
     "output_type": "stream",
     "text": [
      "Score:0.005171919120738999\n"
     ]
    }
   ],
   "source": [
    "print(\"Score:{}\".format(model.score(X_test, y_test)))"
   ]
  },
  {
   "cell_type": "code",
   "execution_count": 167,
   "metadata": {},
   "outputs": [
    {
     "name": "stdout",
     "output_type": "stream",
     "text": [
      "Cross-validated scores:[-0.82479134 -1.27425461 -1.52054325 -1.57316071 -1.69282696 -1.78994953\n",
      " -1.90907756 -2.04717613 -2.19847525 -2.43649315]\n"
     ]
    }
   ],
   "source": [
    "from sklearn.cross_validation import cross_val_score, cross_val_predict\n",
    "from sklearn import metrics\n",
    "# model= linear_model.LinearRegression()\n",
    "# model = linear_model.Ridge()\n",
    "# model = linear_model.ElasticNet()\n",
    "model = linear_model.Lasso()\n",
    "# X= df[[\"runtimeMinutes\",\"numVotes\"]]\n",
    "X=df[[\"runtimeMinutes\"]]\n",
    "# X=df[[\"numVotes\"]]\n",
    "scores = cross_val_score(model, X, y, cv=10,scoring='neg_mean_squared_error')\n",
    "print(\"Cross-validated scores:{}\".format(scores))"
   ]
  },
  {
   "cell_type": "code",
   "execution_count": 168,
   "metadata": {},
   "outputs": [
    {
     "name": "stdout",
     "output_type": "stream",
     "text": [
      "[ 0.82479134  1.27425461  1.52054325  1.57316071  1.69282696  1.78994953\n",
      "  1.90907756  2.04717613  2.19847525  2.43649315]\n"
     ]
    }
   ],
   "source": [
    "# fix the sign of MSE scores\n",
    "mse_scores = -scores\n",
    "print(mse_scores)"
   ]
  },
  {
   "cell_type": "code",
   "execution_count": 169,
   "metadata": {},
   "outputs": [
    {
     "name": "stdout",
     "output_type": "stream",
     "text": [
      "[ 0.90818024  1.12882887  1.2331031   1.25425703  1.30108684  1.33788995\n",
      "  1.38169373  1.43079563  1.48272561  1.56092702]\n"
     ]
    }
   ],
   "source": [
    "# convert from MSE to RMSE\n",
    "rmse_scores = np.sqrt(mse_scores)\n",
    "print(rmse_scores)"
   ]
  },
  {
   "cell_type": "code",
   "execution_count": 170,
   "metadata": {},
   "outputs": [
    {
     "name": "stdout",
     "output_type": "stream",
     "text": [
      "1.30194880128\n"
     ]
    }
   ],
   "source": [
    "# calculate the average RMSE\n",
    "print(rmse_scores.mean())"
   ]
  },
  {
   "cell_type": "markdown",
   "metadata": {},
   "source": [
    "**Results**\n",
    "- **LinearRegression**\n",
    "    - MLR(num_votes,runtime)=1.30073838517\n",
    "    - SLR(num_votes)= 1.29704733527\n",
    "    - SLR(runtime)=1.30532895502\n",
    "    - SLT(startYear)=\n",
    "- **Ridge Regression**\n",
    "    - RR(num_votes,runtime)=1.3007383851\n",
    "    - RR(num_votes)= 1.29704733527\n",
    "    - RR(runtime)=1.30532895493\n",
    "    - RR(startYear)=1.30782736601\n",
    "    \n",
    "- **Elastic**\n",
    "    - ELs(numVotes,runtime)= 1.29898906989\n",
    "    - ELS(numVotes)= 1.29704731026\n",
    "    - ELS(runtime)=1.30332239286\n",
    "    -\n",
    "- **LASSO Regression**\n",
    "    - LASSO(numVotes,runtime)=1.29788167583\n",
    "    - LASSO(num_votes)=1.29704728548\n",
    "    - LASSO(runtime)=1.30194880128\n",
    "    "
   ]
  },
  {
   "cell_type": "code",
   "execution_count": 171,
   "metadata": {},
   "outputs": [
    {
     "data": {
      "text/plain": [
       "count    171786.000000\n",
       "mean          6.279753\n",
       "std           1.310176\n",
       "min           1.000000\n",
       "25%           5.500000\n",
       "50%           6.400000\n",
       "75%           7.200000\n",
       "max          10.000000\n",
       "Name: averageRating, dtype: float64"
      ]
     },
     "execution_count": 171,
     "metadata": {},
     "output_type": "execute_result"
    }
   ],
   "source": [
    "y.describe()"
   ]
  },
  {
   "cell_type": "code",
   "execution_count": null,
   "metadata": {
    "collapsed": true
   },
   "outputs": [],
   "source": []
  }
 ],
 "metadata": {
  "kernelspec": {
   "display_name": "Python 3",
   "language": "python",
   "name": "python3"
  },
  "language_info": {
   "codemirror_mode": {
    "name": "ipython",
    "version": 3
   },
   "file_extension": ".py",
   "mimetype": "text/x-python",
   "name": "python",
   "nbconvert_exporter": "python",
   "pygments_lexer": "ipython3",
   "version": "3.6.1"
  }
 },
 "nbformat": 4,
 "nbformat_minor": 2
}
