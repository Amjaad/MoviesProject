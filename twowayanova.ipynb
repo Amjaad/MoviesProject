{
 "cells": [
  {
   "cell_type": "code",
   "execution_count": 3,
   "metadata": {},
   "outputs": [
    {
     "name": "stderr",
     "output_type": "stream",
     "text": [
      "C:\\ProgramData\\Anaconda3\\lib\\site-packages\\statsmodels\\compat\\pandas.py:56: FutureWarning: The pandas.core.datetools module is deprecated and will be removed in a future version. Please use the pandas.tseries module instead.\n",
      "  from pandas.core import datetools\n"
     ]
    }
   ],
   "source": [
    "import pandas as pd\n",
    "import numpy as np\n",
    "\n",
    "import scipy.stats as stats\n",
    "\n",
    "import statsmodels.api as sm\n",
    "import statsmodels.formula.api as smf\n",
    "import statsmodels.stats.multicomp as multi\n",
    "\n",
    "import matplotlib.pyplot as plt\n",
    "import seaborn as sns\n",
    "\n",
    "from pandas import DataFrame\n",
    "from pandas import Series\n",
    "\n",
    "import warnings\n",
    "warnings.filterwarnings('ignore')"
   ]
  },
  {
   "cell_type": "code",
   "execution_count": 39,
   "metadata": {
    "collapsed": true
   },
   "outputs": [],
   "source": [
    "# read in data\n",
    "local_file=\"DataPrep/title.ratings.genresS.actorsG.csv\"\n",
    "source=local_file\n",
    "df = pd.read_csv(source, sep='\\t')\n",
    "df.drop(df.columns[0], inplace=True, axis=1)\n",
    "\n",
    "df[\"runtimeMinutes\"]=df.runtimeMinutes.apply(int)\n",
    "df[\"numVotes\"]=df.numVotes.apply(int)"
   ]
  },
  {
   "cell_type": "code",
   "execution_count": 2,
   "metadata": {},
   "outputs": [],
   "source": [
    "# df.head()\n",
    "# df.dtypes\n",
    "# list(df)"
   ]
  },
  {
   "cell_type": "code",
   "execution_count": 1,
   "metadata": {},
   "outputs": [],
   "source": [
    "# df.genre.unique()"
   ]
  },
  {
   "cell_type": "code",
   "execution_count": 40,
   "metadata": {
    "collapsed": true
   },
   "outputs": [],
   "source": [
    "def modStats(model):\n",
    "    modParams=model.params\n",
    "    modAOVTable = sm.stats.anova_lm(model, typ=2)\n",
    "    modSummary=model.summary()\n",
    "    return(modParams, modAOVTable, modSummary)"
   ]
  },
  {
   "cell_type": "code",
   "execution_count": 41,
   "metadata": {
    "collapsed": true
   },
   "outputs": [],
   "source": [
    "def eta_squared(aov):\n",
    "    aov['eta_sq'] = 'NaN'\n",
    "    aov['eta_sq'] = aov[:-1]['sum_sq']/sum(aov['sum_sq'])\n",
    "    return aov\n",
    " \n",
    "def omega_squared(aov):\n",
    "    mse = aov['sum_sq'][-1]/aov['df'][-1]\n",
    "    aov['omega_sq'] = 'NaN'\n",
    "    aov['omega_sq'] = (aov[:-1]['sum_sq']-(aov[:-1]['df']*mse))/(sum(aov['sum_sq'])+mse)\n",
    "    return aov"
   ]
  },
  {
   "cell_type": "markdown",
   "metadata": {},
   "source": [
    "#### ANOVA: ratings ~ genre"
   ]
  },
  {
   "cell_type": "code",
   "execution_count": 42,
   "metadata": {},
   "outputs": [
    {
     "name": "stdout",
     "output_type": "stream",
     "text": [
      "                 sum_sq        df            F  PR(>F)    eta_sq  omega_sq\n",
      "genre      68847.056066      27.0  1756.723854     0.0  0.134934  0.134857\n",
      "Residual  441380.466435  304085.0          NaN     NaN       NaN       NaN\n"
     ]
    }
   ],
   "source": [
    "mod = smf.ols(formula='averageRating ~ genre', data=df).fit()\n",
    "modParams, modAOVTable, modSummary=modStats(mod)\n",
    "eta_squared(modAOVTable)\n",
    "omega_squared(modAOVTable)\n",
    "print(modAOVTable)"
   ]
  },
  {
   "cell_type": "code",
   "execution_count": 43,
   "metadata": {},
   "outputs": [
    {
     "data": {
      "image/png": "[encoded data removed]",
      "text/plain": [
       "<matplotlib.figure.Figure at 0x260a9f4a978>"
      ]
     },
     "metadata": {},
     "output_type": "display_data"
    }
   ],
   "source": [
    "res = mod.resid\n",
    "fig = sm.qqplot(res, line='s')\n",
    "plt.show()"
   ]
  },
  {
   "cell_type": "markdown",
   "metadata": {},
   "source": [
    "#### ANOVA: ratings ~ genre and # of votes"
   ]
  },
  {
   "cell_type": "code",
   "execution_count": 44,
   "metadata": {},
   "outputs": [
    {
     "name": "stdout",
     "output_type": "stream",
     "text": [
      "                       sum_sq        df            F        PR(>F)    eta_sq  \\\n",
      "genre            70786.963211      27.0  1834.051316  0.000000e+00  0.138211   \n",
      "numVotes          6215.538080       1.0  4348.111750  0.000000e+00  0.012136   \n",
      "genre:numVotes     521.577315      27.0    13.513782  7.441319e-61  0.001018   \n",
      "Residual        434643.351042  304057.0          NaN           NaN       NaN   \n",
      "\n",
      "                omega_sq  \n",
      "genre           0.138135  \n",
      "numVotes        0.012133  \n",
      "genre:numVotes  0.000943  \n",
      "Residual             NaN  \n"
     ]
    }
   ],
   "source": [
    "mod2 = smf.ols('averageRating ~ genre + numVotes + genre:numVotes', data=df).fit()\n",
    "mod2Params, mod2AOVTable, mod2Summary=modStats(mod2)\n",
    "eta_squared(mod2AOVTable)\n",
    "omega_squared(mod2AOVTable)\n",
    "print(mod2AOVTable)"
   ]
  },
  {
   "cell_type": "markdown",
   "metadata": {},
   "source": [
    "#### ANOVA: ratings ~ genre and runtime minutes"
   ]
  },
  {
   "cell_type": "code",
   "execution_count": 45,
   "metadata": {},
   "outputs": [
    {
     "name": "stdout",
     "output_type": "stream",
     "text": [
      "                             sum_sq        df            F         PR(>F)  \\\n",
      "genre                  69423.612679      27.0  1793.637895   0.000000e+00   \n",
      "runtimeMinutes          1423.375617       1.0   992.912200  1.402445e-217   \n",
      "genre:runtimeMinutes    4080.363859      27.0   105.420835   0.000000e+00   \n",
      "Residual              435876.726959  304057.0          NaN            NaN   \n",
      "\n",
      "                        eta_sq  omega_sq  \n",
      "genre                 0.135910  0.135834  \n",
      "runtimeMinutes        0.002787  0.002784  \n",
      "genre:runtimeMinutes  0.007988  0.007912  \n",
      "Residual                   NaN       NaN  \n"
     ]
    }
   ],
   "source": [
    "mod3 = smf.ols('averageRating ~ genre + runtimeMinutes + genre:runtimeMinutes', data=genre_df).fit()\n",
    "mod3Params, mod3AOVTable, mod3Summary=modStats(mod3)\n",
    "eta_squared(mod3AOVTable)\n",
    "omega_squared(mod3AOVTable)\n",
    "print(mod3AOVTable)"
   ]
  },
  {
   "cell_type": "markdown",
   "metadata": {},
   "source": [
    "#### Summary\n",
    "\n",
    "Genre is correlated with ratings and explains 14% of variance<br>\n",
    "When coupled with runtime minutes or number of variance, no additional significant variance is explained."
   ]
  }
 ],
 "metadata": {
  "kernelspec": {
   "display_name": "Python 3",
   "language": "python",
   "name": "python3"
  },
  "language_info": {
   "codemirror_mode": {
    "name": "ipython",
    "version": 3
   },
   "file_extension": ".py",
   "mimetype": "text/x-python",
   "name": "python",
   "nbconvert_exporter": "python",
   "pygments_lexer": "ipython3",
   "version": "3.6.1"
  }
 },
 "nbformat": 4,
 "nbformat_minor": 2
}
