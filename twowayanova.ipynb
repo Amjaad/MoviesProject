{
 "cells": [
  {
   "cell_type": "code",
   "execution_count": 2,
   "metadata": {},
   "outputs": [
    {
     "name": "stderr",
     "output_type": "stream",
     "text": [
      "C:\\ProgramData\\Anaconda3\\lib\\site-packages\\statsmodels\\compat\\pandas.py:56: FutureWarning: The pandas.core.datetools module is deprecated and will be removed in a future version. Please use the pandas.tseries module instead.\n",
      "  from pandas.core import datetools\n"
     ]
    }
   ],
   "source": [
    "import pandas as pd\n",
    "import numpy as np\n",
    "\n",
    "import scipy.stats as stats\n",
    "\n",
    "import statsmodels.api as sm\n",
    "import statsmodels.formula.api as smf\n",
    "import statsmodels.stats.multicomp as multi\n",
    "\n",
    "import matplotlib.pyplot as plt\n",
    "import seaborn as sns\n",
    "\n",
    "from pandas import DataFrame\n",
    "from pandas import Series\n",
    "\n",
    "import warnings\n",
    "warnings.filterwarnings('ignore')"
   ]
  },
  {
   "cell_type": "code",
   "execution_count": 3,
   "metadata": {
    "collapsed": true
   },
   "outputs": [],
   "source": [
    "# read in data\n",
    "local_file=\"DataPrep/title.ratings.genresS.actorsG.csv\"\n",
    "source=local_file\n",
    "df = pd.read_csv(source, sep='\\t')\n",
    "df.drop(df.columns[0], inplace=True, axis=1)\n",
    "\n",
    "df[\"runtimeMinutes\"]=df.runtimeMinutes.apply(int)\n",
    "df[\"numVotes\"]=df.numVotes.apply(int)"
   ]
  },
  {
   "cell_type": "code",
   "execution_count": 13,
   "metadata": {},
   "outputs": [
    {
     "data": {
      "text/html": [
       "<div>\n",
       "<style>\n",
       "    .dataframe thead tr:only-child th {\n",
       "        text-align: right;\n",
       "    }\n",
       "\n",
       "    .dataframe thead th {\n",
       "        text-align: left;\n",
       "    }\n",
       "\n",
       "    .dataframe tbody tr th {\n",
       "        vertical-align: top;\n",
       "    }\n",
       "</style>\n",
       "<table border=\"1\" class=\"dataframe\">\n",
       "  <thead>\n",
       "    <tr style=\"text-align: right;\">\n",
       "      <th></th>\n",
       "      <th>tconst</th>\n",
       "      <th>principalCast</th>\n",
       "      <th>genre</th>\n",
       "      <th>titleType</th>\n",
       "      <th>primaryTitle</th>\n",
       "      <th>runtimeMinutes</th>\n",
       "      <th>averageRating</th>\n",
       "      <th>numVotes</th>\n",
       "    </tr>\n",
       "  </thead>\n",
       "  <tbody>\n",
       "    <tr>\n",
       "      <th>0</th>\n",
       "      <td>tt0000009</td>\n",
       "      <td>nm0085156,nm0183823,nm0063086,nm1309758</td>\n",
       "      <td>Romance</td>\n",
       "      <td>movie</td>\n",
       "      <td>Miss Jerry</td>\n",
       "      <td>45</td>\n",
       "      <td>5.4</td>\n",
       "      <td>58</td>\n",
       "    </tr>\n",
       "    <tr>\n",
       "      <th>1</th>\n",
       "      <td>tt0000147</td>\n",
       "      <td>nm0280615,nm4082222,nm2256592,nm0103755,nm0714...</td>\n",
       "      <td>Documentary</td>\n",
       "      <td>movie</td>\n",
       "      <td>The Corbett-Fitzsimmons Fight</td>\n",
       "      <td>20</td>\n",
       "      <td>5.2</td>\n",
       "      <td>236</td>\n",
       "    </tr>\n",
       "    <tr>\n",
       "      <th>2</th>\n",
       "      <td>tt0000147</td>\n",
       "      <td>nm0280615,nm4082222,nm2256592,nm0103755,nm0714...</td>\n",
       "      <td>News</td>\n",
       "      <td>movie</td>\n",
       "      <td>The Corbett-Fitzsimmons Fight</td>\n",
       "      <td>20</td>\n",
       "      <td>5.2</td>\n",
       "      <td>236</td>\n",
       "    </tr>\n",
       "    <tr>\n",
       "      <th>3</th>\n",
       "      <td>tt0000147</td>\n",
       "      <td>nm0280615,nm4082222,nm2256592,nm0103755,nm0714...</td>\n",
       "      <td>Sport</td>\n",
       "      <td>movie</td>\n",
       "      <td>The Corbett-Fitzsimmons Fight</td>\n",
       "      <td>20</td>\n",
       "      <td>5.2</td>\n",
       "      <td>236</td>\n",
       "    </tr>\n",
       "    <tr>\n",
       "      <th>4</th>\n",
       "      <td>tt0000574</td>\n",
       "      <td>nm2421834,nm0170118,nm0846911,nm0846894,nm0425...</td>\n",
       "      <td>Biography</td>\n",
       "      <td>movie</td>\n",
       "      <td>The Story of the Kelly Gang</td>\n",
       "      <td>70</td>\n",
       "      <td>6.4</td>\n",
       "      <td>413</td>\n",
       "    </tr>\n",
       "  </tbody>\n",
       "</table>\n",
       "</div>"
      ],
      "text/plain": [
       "      tconst                                      principalCast        genre  \\\n",
       "0  tt0000009            nm0085156,nm0183823,nm0063086,nm1309758      Romance   \n",
       "1  tt0000147  nm0280615,nm4082222,nm2256592,nm0103755,nm0714...  Documentary   \n",
       "2  tt0000147  nm0280615,nm4082222,nm2256592,nm0103755,nm0714...         News   \n",
       "3  tt0000147  nm0280615,nm4082222,nm2256592,nm0103755,nm0714...        Sport   \n",
       "4  tt0000574  nm2421834,nm0170118,nm0846911,nm0846894,nm0425...    Biography   \n",
       "\n",
       "  titleType                   primaryTitle  runtimeMinutes  averageRating  \\\n",
       "0     movie                     Miss Jerry              45            5.4   \n",
       "1     movie  The Corbett-Fitzsimmons Fight              20            5.2   \n",
       "2     movie  The Corbett-Fitzsimmons Fight              20            5.2   \n",
       "3     movie  The Corbett-Fitzsimmons Fight              20            5.2   \n",
       "4     movie    The Story of the Kelly Gang              70            6.4   \n",
       "\n",
       "   numVotes  \n",
       "0        58  \n",
       "1       236  \n",
       "2       236  \n",
       "3       236  \n",
       "4       413  "
      ]
     },
     "execution_count": 13,
     "metadata": {},
     "output_type": "execute_result"
    }
   ],
   "source": [
    "# df.head()\n",
    "# df.dtypes\n",
    "# list(df)"
   ]
  },
  {
   "cell_type": "code",
   "execution_count": 1,
   "metadata": {
    "collapsed": true
   },
   "outputs": [],
   "source": [
    "# df.genre.unique()"
   ]
  },
  {
   "cell_type": "code",
   "execution_count": 4,
   "metadata": {
    "collapsed": true
   },
   "outputs": [],
   "source": [
    "def modStats(model):\n",
    "    modParams=model.params\n",
    "    modAOVTable = sm.stats.anova_lm(model, typ=2)\n",
    "    modSummary=model.summary()\n",
    "    return(modParams, modAOVTable, modSummary)"
   ]
  },
  {
   "cell_type": "code",
   "execution_count": 5,
   "metadata": {
    "collapsed": true
   },
   "outputs": [],
   "source": [
    "def eta_squared(aov):\n",
    "    aov['eta_sq'] = 'NaN'\n",
    "    aov['eta_sq'] = aov[:-1]['sum_sq']/sum(aov['sum_sq'])\n",
    "    return aov\n",
    " \n",
    "def omega_squared(aov):\n",
    "    mse = aov['sum_sq'][-1]/aov['df'][-1]\n",
    "    aov['omega_sq'] = 'NaN'\n",
    "    aov['omega_sq'] = (aov[:-1]['sum_sq']-(aov[:-1]['df']*mse))/(sum(aov['sum_sq'])+mse)\n",
    "    return aov"
   ]
  },
  {
   "cell_type": "markdown",
   "metadata": {},
   "source": [
    "#### ANOVA: ratings ~ genre"
   ]
  },
  {
   "cell_type": "code",
   "execution_count": 6,
   "metadata": {},
   "outputs": [
    {
     "name": "stdout",
     "output_type": "stream",
     "text": [
      "                 sum_sq        df            F  PR(>F)    eta_sq  omega_sq\n",
      "genre      68847.056066      27.0  1756.723854     0.0  0.134934  0.134857\n",
      "Residual  441380.466435  304085.0          NaN     NaN       NaN       NaN\n"
     ]
    }
   ],
   "source": [
    "mod = smf.ols(formula='averageRating ~ genre', data=df).fit()\n",
    "modParams, modAOVTable, modSummary=modStats(mod)\n",
    "eta_squared(modAOVTable)\n",
    "omega_squared(modAOVTable)\n",
    "print(modAOVTable)"
   ]
  },
  {
   "cell_type": "markdown",
   "metadata": {},
   "source": [
    "#### Determine which genre ratings differ significantly"
   ]
  },
  {
   "cell_type": "code",
   "execution_count": 25,
   "metadata": {},
   "outputs": [
    {
     "name": "stdout",
     "output_type": "stream",
     "text": [
      "5 Greatest + Mean Differences Between Genres\n",
      "\n",
      "        group1       group2  meandiff   lower   upper  reject\n",
      "6       Action  Documentary    1.5144  1.4701  1.5587    True\n",
      "32       Adult  Documentary    1.5020  1.4121  1.5919    True\n",
      "126     Comedy  Documentary    1.2529  1.2175  1.2883    True\n",
      "57   Adventure  Documentary    1.2378  1.1867  1.2890    True\n",
      "147      Crime  Documentary    1.1534  1.1078  1.1989    True \n",
      "\n",
      "5 Greatest - Mean Differences Between Genres\n",
      "\n",
      "          group1    group2  meandiff   lower   upper  reject\n",
      "174  Documentary    Horror   -2.1627 -2.2122 -2.1133    True\n",
      "185  Documentary  Thriller   -1.5918 -1.6386 -1.5450    True\n",
      "193        Drama    Horror   -1.2604 -1.3036 -1.2172    True\n",
      "211       Family    Horror   -1.1870 -1.2540 -1.1201    True\n",
      "180  Documentary   Romance   -1.0344 -1.0771 -0.9917    True\n"
     ]
    }
   ],
   "source": [
    "genre_list = ['Action','Adult', 'Adventure', 'Comedy', 'Crime',\n",
    "       'Documentary', 'Drama', 'Family', 'Horror','Romance','Thriller']\n",
    "test = multi.MultiComparison(df['averageRating'], df['genre'])\n",
    "res = test.tukeyhsd()\n",
    "df2 = pd.DataFrame(data=res._results_table.data[1:], columns=res._results_table.data[0])\n",
    "\n",
    "df2 = df2[df2.group1.isin(genre_list)]\n",
    "df2 = df2[df2.group2.isin(genre_list)]\n",
    "\n",
    "#d2.sort_values(['meandiff'], ascending=0)\n",
    "print(\"5 Greatest + Mean Differences Between Genres\\n\")\n",
    "print(df2.nlargest(5, 'meandiff'),'\\n')\n",
    "print(\"5 Greatest - Mean Differences Between Genres\\n\")\n",
    "print(df2.nsmallest(5, 'meandiff'))"
   ]
  },
  {
   "cell_type": "code",
   "execution_count": 7,
   "metadata": {},
   "outputs": [
    {
     "data": {
      "image/png": "[encoded data removed]",
      "text/plain": [
       "<matplotlib.figure.Figure at 0x29ebc4128d0>"
      ]
     },
     "metadata": {},
     "output_type": "display_data"
    }
   ],
   "source": [
    "# second validation method \n",
    "from statsmodels.stats.multicomp import pairwise_tukeyhsd\n",
    "\n",
    "tukey = pairwise_tukeyhsd(endog=df.numVotes,     # Data\n",
    "                          groups=df.genre,   # Groups\n",
    "                          alpha=0.05)          # Significance level\n",
    "\n",
    "tukey.plot_simultaneous()    # Plot group confidence intervals\n",
    "plt.vlines(x=49.57,ymin=-0.5,ymax=4.5, color=\"red\")\n",
    "plt.show()"
   ]
  },
  {
   "cell_type": "markdown",
   "metadata": {},
   "source": [
    "#### Visualize genre rating differences"
   ]
  },
  {
   "cell_type": "code",
   "execution_count": 13,
   "metadata": {},
   "outputs": [
    {
     "data": {
      "image/png": "[encoded data removed]",
      "text/plain": [
       "<matplotlib.figure.Figure at 0x269d8ced630>"
      ]
     },
     "metadata": {},
     "output_type": "display_data"
    }
   ],
   "source": [
    "sns.set(style=\"ticks\")\n",
    "df3 = df[df.genre.isin(genre_list)]\n",
    "\n",
    "sns.boxplot(x=df3['genre'], y=df3['averageRating'], showmeans=True)\n",
    "plt.xticks(rotation=90)\n",
    "plt.show()\n",
    "# plt.savefig('genre_box.png')"
   ]
  },
  {
   "cell_type": "markdown",
   "metadata": {},
   "source": [
    "#### ANOVA: ratings ~ genre and # of votes"
   ]
  },
  {
   "cell_type": "code",
   "execution_count": 16,
   "metadata": {},
   "outputs": [
    {
     "name": "stdout",
     "output_type": "stream",
     "text": [
      "                       sum_sq        df            F        PR(>F)    eta_sq  \\\n",
      "genre            70786.963211      27.0  1834.051316  0.000000e+00  0.138211   \n",
      "numVotes          6215.538080       1.0  4348.111750  0.000000e+00  0.012136   \n",
      "genre:numVotes     521.577315      27.0    13.513782  7.441319e-61  0.001018   \n",
      "Residual        434643.351042  304057.0          NaN           NaN       NaN   \n",
      "\n",
      "                omega_sq  \n",
      "genre           0.138135  \n",
      "numVotes        0.012133  \n",
      "genre:numVotes  0.000943  \n",
      "Residual             NaN  \n"
     ]
    }
   ],
   "source": [
    "mod2 = smf.ols('averageRating ~ genre + numVotes + genre:numVotes', data=df).fit()\n",
    "mod2Params, mod2AOVTable, mod2Summary=modStats(mod2)\n",
    "eta_squared(mod2AOVTable)\n",
    "omega_squared(mod2AOVTable)\n",
    "print(mod2AOVTable)"
   ]
  },
  {
   "cell_type": "markdown",
   "metadata": {},
   "source": [
    "#### ANOVA: ratings ~ genre and runtime minutes"
   ]
  },
  {
   "cell_type": "code",
   "execution_count": 22,
   "metadata": {},
   "outputs": [
    {
     "name": "stdout",
     "output_type": "stream",
     "text": [
      "                             sum_sq        df            F         PR(>F)  \\\n",
      "genre                  69423.612679      27.0  1793.637895   0.000000e+00   \n",
      "runtimeMinutes          1423.375617       1.0   992.912200  1.402445e-217   \n",
      "genre:runtimeMinutes    4080.363859      27.0   105.420835   0.000000e+00   \n",
      "Residual              435876.726959  304057.0          NaN            NaN   \n",
      "\n",
      "                        eta_sq  omega_sq  \n",
      "genre                 0.135910  0.135834  \n",
      "runtimeMinutes        0.002787  0.002784  \n",
      "genre:runtimeMinutes  0.007988  0.007912  \n",
      "Residual                   NaN       NaN  \n"
     ]
    }
   ],
   "source": [
    "mod3 = smf.ols('averageRating ~ genre + runtimeMinutes + genre:runtimeMinutes', data=df).fit()\n",
    "mod3Params, mod3AOVTable, mod3Summary=modStats(mod3)\n",
    "eta_squared(mod3AOVTable)\n",
    "omega_squared(mod3AOVTable)\n",
    "print(mod3AOVTable)"
   ]
  },
  {
   "cell_type": "markdown",
   "metadata": {},
   "source": [
    "#### Summary\n",
    "\n",
    "Genre is correlated with ratings and explains 14% of variance<br>\n",
    "When coupled with runtime minutes or number of variance, no additional significant variance is explained."
   ]
  }
 ],
 "metadata": {
  "kernelspec": {
   "display_name": "Python 3",
   "language": "python",
   "name": "python3"
  },
  "language_info": {
   "codemirror_mode": {
    "name": "ipython",
    "version": 3
   },
   "file_extension": ".py",
   "mimetype": "text/x-python",
   "name": "python",
   "nbconvert_exporter": "python",
   "pygments_lexer": "ipython3",
   "version": "3.6.1"
  }
 },
 "nbformat": 4,
 "nbformat_minor": 2
}
