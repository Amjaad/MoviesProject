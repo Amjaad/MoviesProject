{
 "cells": [
  {
   "cell_type": "code",
   "execution_count": 3,
   "metadata": {},
   "outputs": [],
   "source": [
    "# import relevant libraries\n",
    "\n",
    "# basic libraries\n",
    "import pandas as pd\n",
    "import numpy as np\n",
    "from collections import Counter\n",
    "import re\n",
    "\n",
    "# visualization libraries\n",
    "import matplotlib.pyplot as plt\n",
    "import seaborn as sns\n",
    "plt.style.use(\"fivethirtyeight\")\n",
    "\n",
    "# machine learning librariess\n",
    "from sklearn import tree, metrics, model_selection, linear_model\n",
    "from sklearn import ensemble, preprocessing, feature_extraction, feature_selection, decomposition\n",
    "\n",
    "# data collection libraries\n",
    "import requests\n",
    "# from selenium import webdriver\n",
    "import bs4\n",
    "#import imdbpie\n",
    "import json\n",
    "\n",
    "%matplotlib inline"
   ]
  },
  {
   "cell_type": "code",
   "execution_count": 5,
   "metadata": {
    "collapsed": true
   },
   "outputs": [],
   "source": [
    "# read in data\n",
    "local_file=\"title.ratings.genresG.actorsG.csv\"\n",
    "source=local_file\n",
    "df = pd.read_csv(source, sep='\\t')"
   ]
  },
  {
   "cell_type": "code",
   "execution_count": 29,
   "metadata": {},
   "outputs": [],
   "source": [
    "# OMDb API URL\n",
    "api_url = \"http://www.omdbapi.com/?apikey=503dd5e4&\""
   ]
  },
  {
   "cell_type": "code",
   "execution_count": 33,
   "metadata": {},
   "outputs": [
    {
     "data": {
      "text/plain": [
       "{'Actors': 'Blanche Bayliss, William Courtenay, Chauncey Depew',\n",
       " 'Awards': 'N/A',\n",
       " 'BoxOffice': 'N/A',\n",
       " 'Country': 'USA',\n",
       " 'DVD': 'N/A',\n",
       " 'Director': 'Alexander Black',\n",
       " 'Genre': 'Romance',\n",
       " 'Language': 'N/A',\n",
       " 'Metascore': 'N/A',\n",
       " 'Plot': 'The adventures of a female reporter in the 1890s.',\n",
       " 'Poster': 'https://images-na.ssl-images-amazon.com/images/M/MV5BNjA5Y2ZhYzctNDc1Yy00OGViLWI3NGUtOTYwZmE3NDFiYmIxXkEyXkFqcGdeQXVyNTIzOTk5ODM@._V1_SX300.jpg',\n",
       " 'Production': 'N/A',\n",
       " 'Rated': 'N/A',\n",
       " 'Ratings': [{'Source': 'Internet Movie Database', 'Value': '5.6/10'}],\n",
       " 'Released': '09 Oct 1894',\n",
       " 'Response': 'True',\n",
       " 'Runtime': '45 min',\n",
       " 'Title': 'Miss Jerry',\n",
       " 'Type': 'movie',\n",
       " 'Website': 'N/A',\n",
       " 'Writer': 'Alexander Black',\n",
       " 'Year': '1894',\n",
       " 'imdbID': 'tt0000009',\n",
       " 'imdbRating': '5.6',\n",
       " 'imdbVotes': '58'}"
      ]
     },
     "execution_count": 33,
     "metadata": {},
     "output_type": "execute_result"
    }
   ],
   "source": [
    "r = requests.get(api_url, params='i=tt0000009')\n",
    "tmp = json.loads(r.text)\n",
    "tmp"
   ]
  },
  {
   "cell_type": "code",
   "execution_count": 22,
   "metadata": {},
   "outputs": [],
   "source": [
    "# tconst_list = df[\"tconst\"].tolist()"
   ]
  },
  {
   "cell_type": "code",
   "execution_count": 23,
   "metadata": {},
   "outputs": [
    {
     "name": "stdout",
     "output_type": "stream",
     "text": [
      "['tt0000009', 'tt0000147']\n"
     ]
    }
   ],
   "source": [
    "# print(tconst_list[:10])"
   ]
  },
  {
   "cell_type": "code",
   "execution_count": 37,
   "metadata": {},
   "outputs": [],
   "source": [
    "# Create a function to get the data for each movie\n",
    "# into a format we can work with\n",
    "# def get_content(tconst_ID):\n",
    "#    tid = {'i':tconst_ID}\n",
    "#    r = requests.get(api_url, params=tid)\n",
    "#    tmp = json.loads(r.text)\n",
    "#    return tmp\n"
   ]
  },
  {
   "cell_type": "code",
   "execution_count": 38,
   "metadata": {
    "collapsed": true
   },
   "outputs": [],
   "source": [
    "# df2 = pd.DataFrame([get_content(i) for i in tconst_list])"
   ]
  },
  {
   "cell_type": "code",
   "execution_count": 39,
   "metadata": {},
   "outputs": [
    {
     "data": {
      "text/html": [
       "<div>\n",
       "<style>\n",
       "    .dataframe thead tr:only-child th {\n",
       "        text-align: right;\n",
       "    }\n",
       "\n",
       "    .dataframe thead th {\n",
       "        text-align: left;\n",
       "    }\n",
       "\n",
       "    .dataframe tbody tr th {\n",
       "        vertical-align: top;\n",
       "    }\n",
       "</style>\n",
       "<table border=\"1\" class=\"dataframe\">\n",
       "  <thead>\n",
       "    <tr style=\"text-align: right;\">\n",
       "      <th></th>\n",
       "      <th>Actors</th>\n",
       "      <th>Awards</th>\n",
       "      <th>BoxOffice</th>\n",
       "      <th>Country</th>\n",
       "      <th>DVD</th>\n",
       "      <th>Director</th>\n",
       "      <th>Genre</th>\n",
       "      <th>Language</th>\n",
       "      <th>Metascore</th>\n",
       "      <th>Plot</th>\n",
       "      <th>...</th>\n",
       "      <th>Response</th>\n",
       "      <th>Runtime</th>\n",
       "      <th>Title</th>\n",
       "      <th>Type</th>\n",
       "      <th>Website</th>\n",
       "      <th>Writer</th>\n",
       "      <th>Year</th>\n",
       "      <th>imdbID</th>\n",
       "      <th>imdbRating</th>\n",
       "      <th>imdbVotes</th>\n",
       "    </tr>\n",
       "  </thead>\n",
       "  <tbody>\n",
       "    <tr>\n",
       "      <th>0</th>\n",
       "      <td>Blanche Bayliss, William Courtenay, Chauncey D...</td>\n",
       "      <td>N/A</td>\n",
       "      <td>N/A</td>\n",
       "      <td>USA</td>\n",
       "      <td>N/A</td>\n",
       "      <td>Alexander Black</td>\n",
       "      <td>Romance</td>\n",
       "      <td>N/A</td>\n",
       "      <td>N/A</td>\n",
       "      <td>The adventures of a female reporter in the 1890s.</td>\n",
       "      <td>...</td>\n",
       "      <td>True</td>\n",
       "      <td>45 min</td>\n",
       "      <td>Miss Jerry</td>\n",
       "      <td>movie</td>\n",
       "      <td>N/A</td>\n",
       "      <td>Alexander Black</td>\n",
       "      <td>1894</td>\n",
       "      <td>tt0000009</td>\n",
       "      <td>5.6</td>\n",
       "      <td>58</td>\n",
       "    </tr>\n",
       "    <tr>\n",
       "      <th>1</th>\n",
       "      <td>James J. Corbett, Bob Fitzsimmons, Billy Madde...</td>\n",
       "      <td>1 win.</td>\n",
       "      <td>N/A</td>\n",
       "      <td>USA</td>\n",
       "      <td>N/A</td>\n",
       "      <td>Enoch J. Rector</td>\n",
       "      <td>Documentary, News, Sport</td>\n",
       "      <td>N/A</td>\n",
       "      <td>N/A</td>\n",
       "      <td>The first known feature film! A very unusual f...</td>\n",
       "      <td>...</td>\n",
       "      <td>True</td>\n",
       "      <td>20 min</td>\n",
       "      <td>The Corbett-Fitzsimmons Fight</td>\n",
       "      <td>movie</td>\n",
       "      <td>N/A</td>\n",
       "      <td>N/A</td>\n",
       "      <td>1897</td>\n",
       "      <td>tt0000147</td>\n",
       "      <td>5.2</td>\n",
       "      <td>223</td>\n",
       "    </tr>\n",
       "  </tbody>\n",
       "</table>\n",
       "<p>2 rows × 25 columns</p>\n",
       "</div>"
      ],
      "text/plain": [
       "                                              Actors  Awards BoxOffice  \\\n",
       "0  Blanche Bayliss, William Courtenay, Chauncey D...     N/A       N/A   \n",
       "1  James J. Corbett, Bob Fitzsimmons, Billy Madde...  1 win.       N/A   \n",
       "\n",
       "  Country  DVD         Director                     Genre Language Metascore  \\\n",
       "0     USA  N/A  Alexander Black                   Romance      N/A       N/A   \n",
       "1     USA  N/A  Enoch J. Rector  Documentary, News, Sport      N/A       N/A   \n",
       "\n",
       "                                                Plot    ...    Response  \\\n",
       "0  The adventures of a female reporter in the 1890s.    ...        True   \n",
       "1  The first known feature film! A very unusual f...    ...        True   \n",
       "\n",
       "  Runtime                          Title   Type Website           Writer  \\\n",
       "0  45 min                     Miss Jerry  movie     N/A  Alexander Black   \n",
       "1  20 min  The Corbett-Fitzsimmons Fight  movie     N/A              N/A   \n",
       "\n",
       "   Year     imdbID imdbRating imdbVotes  \n",
       "0  1894  tt0000009        5.6        58  \n",
       "1  1897  tt0000147        5.2       223  \n",
       "\n",
       "[2 rows x 25 columns]"
      ]
     },
     "execution_count": 39,
     "metadata": {},
     "output_type": "execute_result"
    }
   ],
   "source": [
    "df2.head()"
   ]
  },
  {
   "cell_type": "code",
   "execution_count": null,
   "metadata": {
    "collapsed": true
   },
   "outputs": [],
   "source": []
  }
 ],
 "metadata": {
  "kernelspec": {
   "display_name": "Python 3",
   "language": "python",
   "name": "python3"
  },
  "language_info": {
   "codemirror_mode": {
    "name": "ipython",
    "version": 3
   },
   "file_extension": ".py",
   "mimetype": "text/x-python",
   "name": "python",
   "nbconvert_exporter": "python",
   "pygments_lexer": "ipython3",
   "version": "3.6.1"
  }
 },
 "nbformat": 4,
 "nbformat_minor": 2
}
