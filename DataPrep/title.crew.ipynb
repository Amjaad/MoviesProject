{
 "cells": [
  {
   "cell_type": "code",
   "execution_count": 1,
   "metadata": {
    "scrolled": true
   },
   "outputs": [
    {
     "name": "stdout",
     "output_type": "stream",
     "text": [
      "Total attributes:  4547944\n",
      "Number of null directors:  1979440.0\n",
      "Number of null writers:  2342254.0\n",
      "Number of movies lacking both:  1666522\n",
      "Percent of movies without directors: 43.52%\n",
      "Percent of movies without writers: 51.50%\n",
      "Percent of movies without either: 36.64%\n"
     ]
    }
   ],
   "source": [
    "from pandas import *\n",
    "import pandas as pd\n",
    "import numpy as np\n",
    "\n",
    "df1 = pd.DataFrame.from_csv('title.crew.tsv',sep='\\t')\n",
    "\n",
    "totalSize = df1.shape[0]\n",
    "nullDirectors = float((df1['directors'] == '\\N').sum())\n",
    "nullWriters = float((df1['writers'] == '\\N').sum())\n",
    "nullBoth = df1[(df1['directors'] == '\\N') & (df1['writers'] == '\\N')].count()\n",
    "\n",
    "\n",
    "print \"Total attributes: \",totalSize\n",
    "\n",
    "print \"Number of null directors: \",nullDirectors\n",
    "        \n",
    "print \"Number of null writers: \", nullWriters\n",
    "\n",
    "print \"Number of movies lacking both: \",nullBoth[0]\n",
    "\n",
    "        \n",
    "nullDPerc = nullDirectors / totalSize * 100\n",
    "print 'Percent of movies without directors: {:.2f}%'.format(nullDPerc)\n",
    "\n",
    "nullWPerc = nullWriters / totalSize * 100\n",
    "print 'Percent of movies without writers: {:.2f}%'.format(nullWPerc)\n",
    "\n",
    "nullBPerc = float(nullBoth[0]) / totalSize * 100\n",
    "print 'Percent of movies without either: {:.2f}%'.format(nullBPerc)\n"
   ]
  },
  {
   "cell_type": "code",
   "execution_count": 3,
   "metadata": {},
   "outputs": [
    {
     "data": {
      "text/plain": [
       "directors    object\n",
       "writers      object\n",
       "dtype: object"
      ]
     },
     "execution_count": 3,
     "metadata": {},
     "output_type": "execute_result"
    }
   ],
   "source": [
    "df1.dtypes"
   ]
  },
  {
   "cell_type": "code",
   "execution_count": 2,
   "metadata": {
    "scrolled": false
   },
   "outputs": [
    {
     "data": {
      "text/html": [
       "<div>\n",
       "<style>\n",
       "    .dataframe thead tr:only-child th {\n",
       "        text-align: right;\n",
       "    }\n",
       "\n",
       "    .dataframe thead th {\n",
       "        text-align: left;\n",
       "    }\n",
       "\n",
       "    .dataframe tbody tr th {\n",
       "        vertical-align: top;\n",
       "    }\n",
       "</style>\n",
       "<table border=\"1\" class=\"dataframe\">\n",
       "  <thead>\n",
       "    <tr style=\"text-align: right;\">\n",
       "      <th></th>\n",
       "      <th>directors</th>\n",
       "      <th>writers</th>\n",
       "    </tr>\n",
       "    <tr>\n",
       "      <th>tconst</th>\n",
       "      <th></th>\n",
       "      <th></th>\n",
       "    </tr>\n",
       "  </thead>\n",
       "  <tbody>\n",
       "    <tr>\n",
       "      <th>tt0000001</th>\n",
       "      <td>nm0005690</td>\n",
       "      <td>\\N</td>\n",
       "    </tr>\n",
       "    <tr>\n",
       "      <th>tt0000002</th>\n",
       "      <td>nm0721526</td>\n",
       "      <td>\\N</td>\n",
       "    </tr>\n",
       "    <tr>\n",
       "      <th>tt0000003</th>\n",
       "      <td>nm0721526</td>\n",
       "      <td>\\N</td>\n",
       "    </tr>\n",
       "    <tr>\n",
       "      <th>tt0000004</th>\n",
       "      <td>nm0721526</td>\n",
       "      <td>\\N</td>\n",
       "    </tr>\n",
       "    <tr>\n",
       "      <th>tt0000005</th>\n",
       "      <td>nm0005690</td>\n",
       "      <td>\\N</td>\n",
       "    </tr>\n",
       "  </tbody>\n",
       "</table>\n",
       "</div>"
      ],
      "text/plain": [
       "           directors writers\n",
       "tconst                      \n",
       "tt0000001  nm0005690      \\N\n",
       "tt0000002  nm0721526      \\N\n",
       "tt0000003  nm0721526      \\N\n",
       "tt0000004  nm0721526      \\N\n",
       "tt0000005  nm0005690      \\N"
      ]
     },
     "execution_count": 2,
     "metadata": {},
     "output_type": "execute_result"
    }
   ],
   "source": [
    "df1.head()"
   ]
  },
  {
   "cell_type": "markdown",
   "metadata": {},
   "source": [
    "Thoughts on Data:\n",
    "* Many movies in dataset either do not have a director or writer\n",
    "* High degree of overlap between these, nearly 40% of movies had no info about either\n",
    "* Neither director or writer attributes should be used as independent variable\n",
    "* No changes made to entries re: capitalization, etc. as it is case sensitive for comparisons with other data sets\n"
   ]
  }
 ],
 "metadata": {
  "kernelspec": {
   "display_name": "Python 2",
   "language": "python",
   "name": "python2"
  },
  "language_info": {
   "codemirror_mode": {
    "name": "ipython",
    "version": 2
   },
   "file_extension": ".py",
   "mimetype": "text/x-python",
   "name": "python",
   "nbconvert_exporter": "python",
   "pygments_lexer": "ipython2",
   "version": "2.7.12"
  }
 },
 "nbformat": 4,
 "nbformat_minor": 2
}
