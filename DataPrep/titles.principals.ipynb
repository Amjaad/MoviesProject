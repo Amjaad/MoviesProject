{
 "cells": [
  {
   "cell_type": "code",
   "execution_count": 2,
   "metadata": {
    "collapsed": true
   },
   "outputs": [],
   "source": [
    "import pandas as pd\n",
    "import numpy as np\n",
    "import matplotlib.pyplot as plt\n",
    "import csv\n",
    "from pandas import DataFrame\n",
    "from pandas import Series"
   ]
  },
  {
   "cell_type": "code",
   "execution_count": 3,
   "metadata": {},
   "outputs": [
    {
     "name": "stderr",
     "output_type": "stream",
     "text": [
      "C:\\ProgramData\\Anaconda3\\lib\\site-packages\\IPython\\core\\interactiveshell.py:2717: DtypeWarning: Columns (4,5) have mixed types. Specify dtype option on import or set low_memory=False.\n",
      "  interactivity=interactivity, compiler=compiler, result=result)\n"
     ]
    }
   ],
   "source": [
    "# read in data\n",
    "df_title = pd.read_csv('title.basics.tsv', sep='\\t')\n",
    "df_principals = pd.read_csv('title.principals.tsv', sep='\\t')\n",
    "df_name = pd.read_csv('name.basics.tsv', sep='\\t')\n",
    "df_titleRatings = pd.read_csv('title.ratings.tsv', sep='\\t')\n"
   ]
  },
  {
   "cell_type": "code",
   "execution_count": 4,
   "metadata": {
    "collapsed": true
   },
   "outputs": [],
   "source": [
    "# title_df: exclude everything except titleType= 'movie' \n",
    "df_title2=df_title[df_title.titleType=='movie']\n",
    "df_title2=df_title2.loc[:,['tconst','titleType','primaryTitle','genres']]"
   ]
  },
  {
   "cell_type": "code",
   "execution_count": 5,
   "metadata": {
    "collapsed": true
   },
   "outputs": [],
   "source": [
    "# df_title_rating: merge ratings and titles drop titles with no votes/ratings\n",
    "df_title2 = pd.merge(left=df_title2,right=df_titleRatings, how='left',\\\n",
    "                       left_on='tconst', right_on='tconst')\n",
    "df_title2 = df_title2.dropna(subset=['numVotes'])"
   ]
  },
  {
   "cell_type": "code",
   "execution_count": 82,
   "metadata": {},
   "outputs": [],
   "source": [
    "# df_title2.head()"
   ]
  },
  {
   "cell_type": "code",
   "execution_count": 83,
   "metadata": {},
   "outputs": [],
   "source": [
    "# df_principals.head()"
   ]
  },
  {
   "cell_type": "code",
   "execution_count": 8,
   "metadata": {
    "collapsed": true
   },
   "outputs": [],
   "source": [
    "# separate principals one actor per row\n",
    "df_principals= df_principals.set_index('tconst')\\\n",
    "    .principalCast.str.split(',', expand = True)\\\n",
    "    .stack().reset_index('tconst')\\\n",
    "    .rename(columns={0:'actor'})\n",
    "    \n",
    "# merge principals with ratings and titles \n",
    "df_principals = pd.merge(left=df_principals,right=df_title2, how='right',\\\n",
    "                       left_on='tconst', right_on='tconst')"
   ]
  },
  {
   "cell_type": "code",
   "execution_count": 9,
   "metadata": {},
   "outputs": [
    {
     "data": {
      "text/html": [
       "<div>\n",
       "<style>\n",
       "    .dataframe thead tr:only-child th {\n",
       "        text-align: right;\n",
       "    }\n",
       "\n",
       "    .dataframe thead th {\n",
       "        text-align: left;\n",
       "    }\n",
       "\n",
       "    .dataframe tbody tr th {\n",
       "        vertical-align: top;\n",
       "    }\n",
       "</style>\n",
       "<table border=\"1\" class=\"dataframe\">\n",
       "  <thead>\n",
       "    <tr style=\"text-align: right;\">\n",
       "      <th></th>\n",
       "      <th>tconst</th>\n",
       "      <th>actor</th>\n",
       "      <th>titleType</th>\n",
       "      <th>primaryTitle</th>\n",
       "      <th>genres</th>\n",
       "      <th>averageRating</th>\n",
       "      <th>numVotes</th>\n",
       "    </tr>\n",
       "  </thead>\n",
       "  <tbody>\n",
       "    <tr>\n",
       "      <th>0</th>\n",
       "      <td>tt0000009</td>\n",
       "      <td>nm0085156</td>\n",
       "      <td>movie</td>\n",
       "      <td>Miss Jerry</td>\n",
       "      <td>Romance</td>\n",
       "      <td>5.4</td>\n",
       "      <td>58.0</td>\n",
       "    </tr>\n",
       "    <tr>\n",
       "      <th>1</th>\n",
       "      <td>tt0000009</td>\n",
       "      <td>nm0183823</td>\n",
       "      <td>movie</td>\n",
       "      <td>Miss Jerry</td>\n",
       "      <td>Romance</td>\n",
       "      <td>5.4</td>\n",
       "      <td>58.0</td>\n",
       "    </tr>\n",
       "    <tr>\n",
       "      <th>2</th>\n",
       "      <td>tt0000009</td>\n",
       "      <td>nm0063086</td>\n",
       "      <td>movie</td>\n",
       "      <td>Miss Jerry</td>\n",
       "      <td>Romance</td>\n",
       "      <td>5.4</td>\n",
       "      <td>58.0</td>\n",
       "    </tr>\n",
       "    <tr>\n",
       "      <th>3</th>\n",
       "      <td>tt0000009</td>\n",
       "      <td>nm1309758</td>\n",
       "      <td>movie</td>\n",
       "      <td>Miss Jerry</td>\n",
       "      <td>Romance</td>\n",
       "      <td>5.4</td>\n",
       "      <td>58.0</td>\n",
       "    </tr>\n",
       "    <tr>\n",
       "      <th>4</th>\n",
       "      <td>tt0000147</td>\n",
       "      <td>nm0280615</td>\n",
       "      <td>movie</td>\n",
       "      <td>The Corbett-Fitzsimmons Fight</td>\n",
       "      <td>Documentary,News,Sport</td>\n",
       "      <td>5.2</td>\n",
       "      <td>236.0</td>\n",
       "    </tr>\n",
       "  </tbody>\n",
       "</table>\n",
       "</div>"
      ],
      "text/plain": [
       "      tconst      actor titleType                   primaryTitle  \\\n",
       "0  tt0000009  nm0085156     movie                     Miss Jerry   \n",
       "1  tt0000009  nm0183823     movie                     Miss Jerry   \n",
       "2  tt0000009  nm0063086     movie                     Miss Jerry   \n",
       "3  tt0000009  nm1309758     movie                     Miss Jerry   \n",
       "4  tt0000147  nm0280615     movie  The Corbett-Fitzsimmons Fight   \n",
       "\n",
       "                   genres  averageRating  numVotes  \n",
       "0                 Romance            5.4      58.0  \n",
       "1                 Romance            5.4      58.0  \n",
       "2                 Romance            5.4      58.0  \n",
       "3                 Romance            5.4      58.0  \n",
       "4  Documentary,News,Sport            5.2     236.0  "
      ]
     },
     "execution_count": 9,
     "metadata": {},
     "output_type": "execute_result"
    }
   ],
   "source": [
    "df_principals.head()"
   ]
  },
  {
   "cell_type": "markdown",
   "metadata": {},
   "source": [
    "Actor descriptive statistics"
   ]
  },
  {
   "cell_type": "code",
   "execution_count": 76,
   "metadata": {},
   "outputs": [
    {
     "data": {
      "image/png": "[encoded data removed]",
      "text/plain": [
       "<matplotlib.figure.Figure at 0x209345f4ba8>"
      ]
     },
     "metadata": {},
     "output_type": "display_data"
    },
    {
     "data": {
      "text/plain": [
       "count    653698.000000\n",
       "mean          2.866111\n",
       "std           6.507455\n",
       "min           1.000000\n",
       "25%           1.000000\n",
       "50%           1.000000\n",
       "75%           2.000000\n",
       "max         525.000000\n",
       "Name: movieCount, dtype: float64"
      ]
     },
     "execution_count": 76,
     "metadata": {},
     "output_type": "execute_result"
    }
   ],
   "source": [
    "# df_mpp: number of movies per principal\n",
    "df_mpp= df_principals.loc[:,['tconst','actor']].groupby('actor').count().rename(columns={'tconst': 'movieCount'})\n",
    "\n",
    "plt.title(\"# Movies per actor\")\n",
    "bins = [1,2,3,4,5,10,20,50]\n",
    "plt.hist(df_mpp.movieCount, bins = bins)\n",
    "plt.show()\n",
    "df_mpp.movieCount.describe()"
   ]
  },
  {
   "cell_type": "code",
   "execution_count": 24,
   "metadata": {},
   "outputs": [
    {
     "name": "stdout",
     "output_type": "stream",
     "text": [
      "Actors in more than one movie:  231255\n"
     ]
    }
   ],
   "source": [
    "a = df_mpp.movieCount[df_mpp.movieCount > 1.0].count()\n",
    "print(\"Actors in more than one movie: \",a)"
   ]
  },
  {
   "cell_type": "code",
   "execution_count": 84,
   "metadata": {},
   "outputs": [
    {
     "name": "stdout",
     "output_type": "stream",
     "text": [
      "Descriptive statistics for ratings of all actors\n"
     ]
    },
    {
     "data": {
      "text/plain": [
       "count    653698.000000\n",
       "mean          6.302655\n",
       "std           1.330140\n",
       "min           1.000000\n",
       "25%           5.520000\n",
       "50%           6.400000\n",
       "75%           7.200000\n",
       "max          10.000000\n",
       "Name: averageRating, dtype: float64"
      ]
     },
     "execution_count": 84,
     "metadata": {},
     "output_type": "execute_result"
    }
   ],
   "source": [
    "print(\"Descriptive statistics for ratings of all actors\")\n",
    "df_principals.loc[:,['actor', 'averageRating']].groupby('actor').mean().averageRating.describe()"
   ]
  },
  {
   "cell_type": "code",
   "execution_count": 80,
   "metadata": {},
   "outputs": [
    {
     "name": "stdout",
     "output_type": "stream",
     "text": [
      "Descriptive statistics for ratings of actors > 1 movie\n"
     ]
    },
    {
     "data": {
      "text/plain": [
       "count    231255.000000\n",
       "mean          6.188054\n",
       "std           0.973483\n",
       "min           1.000000\n",
       "25%           5.620000\n",
       "50%           6.250000\n",
       "75%           6.820000\n",
       "max          10.000000\n",
       "Name: averageRating, dtype: float64"
      ]
     },
     "execution_count": 80,
     "metadata": {},
     "output_type": "execute_result"
    }
   ],
   "source": [
    "print(\"Descriptive statistics for ratings of actors > 1 movie\")\n",
    "# average ratings\n",
    "df_principals2 = df_principals.loc[df_principals.duplicated(subset='actor', keep=False), :]\n",
    "df_principals2.loc[:,['actor', 'averageRating']].groupby('actor').mean().averageRating.describe()"
   ]
  },
  {
   "cell_type": "code",
   "execution_count": 107,
   "metadata": {},
   "outputs": [
    {
     "data": {
      "image/png": "[encoded data removed]",
      "text/plain": [
       "<matplotlib.figure.Figure at 0x2096392cb38>"
      ]
     },
     "metadata": {},
     "output_type": "display_data"
    },
    {
     "data": {
      "image/png": "[encoded data removed]",
      "text/plain": [
       "<matplotlib.figure.Figure at 0x2096392cd30>"
      ]
     },
     "metadata": {},
     "output_type": "display_data"
    }
   ],
   "source": [
    "plt.title(\"Average Rating per Actor (all actors)\")\n",
    "plt.hist(df_principals.loc[:,['actor', 'averageRating']].groupby('actor').mean().averageRating)\n",
    "plt.show()\n",
    "\n",
    "plt.title(\"Average Rating per Actor (actor in more than 1 movie)\")\n",
    "plt.hist(df_principals2.loc[:,['actor', 'averageRating']].groupby('actor').mean().averageRating)\n",
    "plt.show()"
   ]
  },
  {
   "cell_type": "code",
   "execution_count": 110,
   "metadata": {},
   "outputs": [
    {
     "data": {
      "image/png": "[encoded data removed]",
      "text/plain": [
       "<matplotlib.figure.Figure at 0x208d1f97160>"
      ]
     },
     "metadata": {},
     "output_type": "display_data"
    },
    {
     "data": {
      "image/png": "[encoded data removed]",
      "text/plain": [
       "<matplotlib.figure.Figure at 0x20955fe3828>"
      ]
     },
     "metadata": {},
     "output_type": "display_data"
    }
   ],
   "source": [
    "plt.title(\"Median Rating per Actor (all actors)\")\n",
    "plt.hist(df_principals.loc[:,['actor', 'averageRating']].groupby('actor').median().averageRating)\n",
    "plt.show()\n",
    "\n",
    "plt.title(\"Median Rating per Actor (actor in more than 1 movie)\")\n",
    "plt.hist(df_principals2.loc[:,['actor', 'averageRating']].groupby('actor').median().averageRating)\n",
    "plt.show()"
   ]
  },
  {
   "cell_type": "markdown",
   "metadata": {},
   "source": [
    "good mean and median spreads for actor ratings\n",
    "over 200k instances if we only use actors who have been in 2 or more movie\n",
    "\n",
    "Amjad recommended using top 20 actors. Need to look at ways to break this down (top 20 with ratings between x and y? top 20 in movies with more than x votes? actors in the most movies? top 20 by decade? slice all and compare?)"
   ]
  }
 ],
 "metadata": {
  "kernelspec": {
   "display_name": "Python 3",
   "language": "python",
   "name": "python3"
  }
 },
 "nbformat": 4,
 "nbformat_minor": 2
}
