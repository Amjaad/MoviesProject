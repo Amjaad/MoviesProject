{
 "cells": [
  {
   "cell_type": "code",
   "execution_count": 11,
   "metadata": {
    "collapsed": true
   },
   "outputs": [],
   "source": [
    "import pandas as pd\n",
    "import numpy as np\n",
    "import matplotlib.pyplot as plt\n",
    "import csv\n",
    "from pandas import DataFrame\n",
    "from pandas import Series"
   ]
  },
  {
   "cell_type": "code",
   "execution_count": 12,
   "metadata": {
    "collapsed": true
   },
   "outputs": [],
   "source": [
    "# read in data\n",
    "local_file=\"title.ratings.genresG.actorsS.csv\"\n",
    "source=local_file\n",
    "principals_df = pd.read_csv(source, sep='\\t')"
   ]
  },
  {
   "cell_type": "code",
   "execution_count": 4,
   "metadata": {},
   "outputs": [
    {
     "data": {
      "text/html": [
       "<div>\n",
       "<style>\n",
       "    .dataframe thead tr:only-child th {\n",
       "        text-align: right;\n",
       "    }\n",
       "\n",
       "    .dataframe thead th {\n",
       "        text-align: left;\n",
       "    }\n",
       "\n",
       "    .dataframe tbody tr th {\n",
       "        vertical-align: top;\n",
       "    }\n",
       "</style>\n",
       "<table border=\"1\" class=\"dataframe\">\n",
       "  <thead>\n",
       "    <tr style=\"text-align: right;\">\n",
       "      <th></th>\n",
       "      <th>Unnamed: 0</th>\n",
       "      <th>tconst</th>\n",
       "      <th>principalCast</th>\n",
       "      <th>titleType</th>\n",
       "      <th>primaryTitle</th>\n",
       "      <th>runtimeMinutes</th>\n",
       "      <th>genres</th>\n",
       "      <th>averageRating</th>\n",
       "      <th>numVotes</th>\n",
       "    </tr>\n",
       "  </thead>\n",
       "  <tbody>\n",
       "    <tr>\n",
       "      <th>0</th>\n",
       "      <td>0</td>\n",
       "      <td>tt0000009</td>\n",
       "      <td>nm0085156</td>\n",
       "      <td>movie</td>\n",
       "      <td>Miss Jerry</td>\n",
       "      <td>45.0</td>\n",
       "      <td>Romance</td>\n",
       "      <td>5.4</td>\n",
       "      <td>58.0</td>\n",
       "    </tr>\n",
       "    <tr>\n",
       "      <th>1</th>\n",
       "      <td>1</td>\n",
       "      <td>tt0000009</td>\n",
       "      <td>nm0183823</td>\n",
       "      <td>movie</td>\n",
       "      <td>Miss Jerry</td>\n",
       "      <td>45.0</td>\n",
       "      <td>Romance</td>\n",
       "      <td>5.4</td>\n",
       "      <td>58.0</td>\n",
       "    </tr>\n",
       "    <tr>\n",
       "      <th>2</th>\n",
       "      <td>2</td>\n",
       "      <td>tt0000009</td>\n",
       "      <td>nm0063086</td>\n",
       "      <td>movie</td>\n",
       "      <td>Miss Jerry</td>\n",
       "      <td>45.0</td>\n",
       "      <td>Romance</td>\n",
       "      <td>5.4</td>\n",
       "      <td>58.0</td>\n",
       "    </tr>\n",
       "    <tr>\n",
       "      <th>3</th>\n",
       "      <td>3</td>\n",
       "      <td>tt0000009</td>\n",
       "      <td>nm1309758</td>\n",
       "      <td>movie</td>\n",
       "      <td>Miss Jerry</td>\n",
       "      <td>45.0</td>\n",
       "      <td>Romance</td>\n",
       "      <td>5.4</td>\n",
       "      <td>58.0</td>\n",
       "    </tr>\n",
       "    <tr>\n",
       "      <th>4</th>\n",
       "      <td>4</td>\n",
       "      <td>tt0000147</td>\n",
       "      <td>nm0280615</td>\n",
       "      <td>movie</td>\n",
       "      <td>The Corbett-Fitzsimmons Fight</td>\n",
       "      <td>20.0</td>\n",
       "      <td>Documentary,News,Sport</td>\n",
       "      <td>5.2</td>\n",
       "      <td>236.0</td>\n",
       "    </tr>\n",
       "  </tbody>\n",
       "</table>\n",
       "</div>"
      ],
      "text/plain": [
       "   Unnamed: 0     tconst principalCast titleType  \\\n",
       "0           0  tt0000009     nm0085156     movie   \n",
       "1           1  tt0000009     nm0183823     movie   \n",
       "2           2  tt0000009     nm0063086     movie   \n",
       "3           3  tt0000009     nm1309758     movie   \n",
       "4           4  tt0000147     nm0280615     movie   \n",
       "\n",
       "                    primaryTitle  runtimeMinutes                  genres  \\\n",
       "0                     Miss Jerry            45.0                 Romance   \n",
       "1                     Miss Jerry            45.0                 Romance   \n",
       "2                     Miss Jerry            45.0                 Romance   \n",
       "3                     Miss Jerry            45.0                 Romance   \n",
       "4  The Corbett-Fitzsimmons Fight            20.0  Documentary,News,Sport   \n",
       "\n",
       "   averageRating  numVotes  \n",
       "0            5.4      58.0  \n",
       "1            5.4      58.0  \n",
       "2            5.4      58.0  \n",
       "3            5.4      58.0  \n",
       "4            5.2     236.0  "
      ]
     },
     "execution_count": 4,
     "metadata": {},
     "output_type": "execute_result"
    }
   ],
   "source": [
    "# principals_df.head()"
   ]
  },
  {
   "cell_type": "code",
   "execution_count": 5,
   "metadata": {},
   "outputs": [
    {
     "data": {
      "image/png": "[encoded data removed]",
      "text/plain": [
       "<matplotlib.figure.Figure at 0x20c5bf41898>"
      ]
     },
     "metadata": {},
     "output_type": "display_data"
    },
    {
     "data": {
      "text/plain": [
       "count    592502.000000\n",
       "mean          2.757888\n",
       "std           5.858132\n",
       "min           1.000000\n",
       "25%           1.000000\n",
       "50%           1.000000\n",
       "75%           2.000000\n",
       "max         263.000000\n",
       "Name: movieCount, dtype: float64"
      ]
     },
     "execution_count": 5,
     "metadata": {},
     "output_type": "execute_result"
    }
   ],
   "source": [
    "# mpp_df: number of movies per principal\n",
    "mpp_df= principals_df.loc[:,['tconst','principalCast']].groupby('principalCast').count().rename(columns={'tconst': 'movieCount'})\n",
    "\n",
    "plt.title(\"# Movies per actor\")\n",
    "bins = [1,2,3,4,5,10,20,50]\n",
    "plt.hist(mpp_df.movieCount, bins = bins)\n",
    "plt.show()\n",
    "mpp_df.movieCount.describe()"
   ]
  },
  {
   "cell_type": "code",
   "execution_count": 6,
   "metadata": {},
   "outputs": [
    {
     "name": "stdout",
     "output_type": "stream",
     "text": [
      "Actors in more than one movie:  206339\n"
     ]
    }
   ],
   "source": [
    "a = mpp_df.movieCount[mpp_df.movieCount > 1.0].count()\n",
    "print(\"Actors in more than one movie: \",a)"
   ]
  },
  {
   "cell_type": "code",
   "execution_count": 7,
   "metadata": {},
   "outputs": [
    {
     "name": "stdout",
     "output_type": "stream",
     "text": [
      "Descriptive statistics for ratings of all actors\n"
     ]
    },
    {
     "data": {
      "text/plain": [
       "count    592502.000000\n",
       "mean          6.299094\n",
       "std           1.316897\n",
       "min           1.000000\n",
       "25%           5.550000\n",
       "50%           6.400000\n",
       "75%           7.200000\n",
       "max          10.000000\n",
       "Name: averageRating, dtype: float64"
      ]
     },
     "execution_count": 7,
     "metadata": {},
     "output_type": "execute_result"
    }
   ],
   "source": [
    "print(\"Descriptive statistics for ratings of all actors\")\n",
    "principals_df.loc[:,['principalCast', 'averageRating']].groupby('principalCast').mean().averageRating.describe()"
   ]
  },
  {
   "cell_type": "code",
   "execution_count": 8,
   "metadata": {},
   "outputs": [
    {
     "name": "stdout",
     "output_type": "stream",
     "text": [
      "Descriptive statistics for ratings of actors > 1 movie\n"
     ]
    },
    {
     "data": {
      "text/plain": [
       "count    206339.000000\n",
       "mean          6.191699\n",
       "std           0.961417\n",
       "min           1.000000\n",
       "25%           5.640000\n",
       "50%           6.266667\n",
       "75%           6.811438\n",
       "max           9.823333\n",
       "Name: averageRating, dtype: float64"
      ]
     },
     "execution_count": 8,
     "metadata": {},
     "output_type": "execute_result"
    }
   ],
   "source": [
    "print(\"Descriptive statistics for ratings of actors > 1 movie\")\n",
    "# average ratings\n",
    "principals_df2 = principals_df.loc[principals_df.duplicated(subset='principalCast', keep=False), :]\n",
    "principals_df2.loc[:,['principalCast', 'averageRating']].groupby('principalCast').mean().averageRating.describe()"
   ]
  },
  {
   "cell_type": "code",
   "execution_count": 9,
   "metadata": {},
   "outputs": [
    {
     "data": {
      "image/png": "[encoded data removed]",
      "text/plain": [
       "<matplotlib.figure.Figure at 0x20c6dbbab38>"
      ]
     },
     "metadata": {},
     "output_type": "display_data"
    },
    {
     "data": {
      "image/png": "[encoded data removed]",
      "text/plain": [
       "<matplotlib.figure.Figure at 0x20c6dbbab00>"
      ]
     },
     "metadata": {},
     "output_type": "display_data"
    }
   ],
   "source": [
    "plt.title(\"Average Rating per Actor (all actors)\")\n",
    "plt.hist(principals_df.loc[:,['principalCast', 'averageRating']].groupby('principalCast').mean().averageRating)\n",
    "plt.show()\n",
    "\n",
    "plt.title(\"Average Rating per Actor (actor in more than 1 movie)\")\n",
    "plt.hist(principals_df2.loc[:,['principalCast', 'averageRating']].groupby('principalCast').mean().averageRating)\n",
    "plt.show()"
   ]
  },
  {
   "cell_type": "code",
   "execution_count": 10,
   "metadata": {},
   "outputs": [
    {
     "data": {
      "image/png": "[encoded data removed]",
      "text/plain": [
       "<matplotlib.figure.Figure at 0x20c0004ee80>"
      ]
     },
     "metadata": {},
     "output_type": "display_data"
    },
    {
     "data": {
      "image/png": "[encoded data removed]",
      "text/plain": [
       "<matplotlib.figure.Figure at 0x20c0004e9e8>"
      ]
     },
     "metadata": {},
     "output_type": "display_data"
    }
   ],
   "source": [
    "plt.title(\"Median Rating per Actor (all actors)\")\n",
    "plt.hist(principals_df.loc[:,['principalCast', 'averageRating']].groupby('principalCast').median().averageRating)\n",
    "plt.show()\n",
    "\n",
    "plt.title(\"Median Rating per Actor (actor in more than 1 movie)\")\n",
    "plt.hist(principals_df2.loc[:,['principalCast', 'averageRating']].groupby('principalCast').median().averageRating)\n",
    "plt.show()"
   ]
  },
  {
   "cell_type": "markdown",
   "metadata": {},
   "source": [
    "actor ratings have good mean and median distributions<br>\n",
    "sample of 200k instances: actors who have been in 2 or more movie<br>\n",
    "\n",
    "Need to look at how to define top 20 actors:<br>\n",
    "top 20 with ratings between x and y? <br>\n",
    "top 20 in movies with more than x votes? <br> \n",
    "actors in the most movies? <br>\n",
    "top 20 by decade? <br>"
   ]
  }
 ],
 "metadata": {
  "kernelspec": {
   "display_name": "Python 3",
   "language": "python",
   "name": "python3"
  },
  "language_info": {
   "codemirror_mode": {
    "name": "ipython",
    "version": 3
   },
   "file_extension": ".py",
   "mimetype": "text/x-python",
   "name": "python",
   "nbconvert_exporter": "python",
   "pygments_lexer": "ipython3",
   "version": "3.6.1"
  }
 },
 "nbformat": 4,
 "nbformat_minor": 2
}
