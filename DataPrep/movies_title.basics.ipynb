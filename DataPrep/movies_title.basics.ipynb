{
 "cells": [
  {
   "cell_type": "code",
   "execution_count": 182,
   "metadata": {
    "collapsed": true
   },
   "outputs": [],
   "source": [
    "import pandas as pd\n",
    "import matplotlib as mpl\n",
    "from collections import Counter\n",
    "import matplotlib.pyplot  as plt\n",
    "import numpy as np"
   ]
  },
  {
   "cell_type": "code",
   "execution_count": 35,
   "metadata": {},
   "outputs": [
    {
     "name": "stderr",
     "output_type": "stream",
     "text": [
      "/Users/amjad/anaconda/lib/python3.6/site-packages/IPython/core/interactiveshell.py:2717: DtypeWarning: Columns (5) have mixed types. Specify dtype option on import or set low_memory=False.\n",
      "  interactivity=interactivity, compiler=compiler, result=result)\n"
     ]
    }
   ],
   "source": [
    "local_file=\"movies_title.basics.csv\"\n",
    "source=local_file\n",
    "df = pd.read_csv(source)"
   ]
  },
  {
   "cell_type": "code",
   "execution_count": 46,
   "metadata": {},
   "outputs": [
    {
     "data": {
      "text/html": [
       "<div>\n",
       "<style>\n",
       "    .dataframe thead tr:only-child th {\n",
       "        text-align: right;\n",
       "    }\n",
       "\n",
       "    .dataframe thead th {\n",
       "        text-align: left;\n",
       "    }\n",
       "\n",
       "    .dataframe tbody tr th {\n",
       "        vertical-align: top;\n",
       "    }\n",
       "</style>\n",
       "<table border=\"1\" class=\"dataframe\">\n",
       "  <thead>\n",
       "    <tr style=\"text-align: right;\">\n",
       "      <th></th>\n",
       "      <th>tconst</th>\n",
       "      <th>titleType</th>\n",
       "      <th>primaryTitle</th>\n",
       "      <th>originalTitle</th>\n",
       "      <th>isAdult</th>\n",
       "      <th>startYear</th>\n",
       "      <th>endYear</th>\n",
       "      <th>runtimeMinutes</th>\n",
       "      <th>genres</th>\n",
       "    </tr>\n",
       "  </thead>\n",
       "  <tbody>\n",
       "    <tr>\n",
       "      <th>0</th>\n",
       "      <td>tt0000009</td>\n",
       "      <td>movie</td>\n",
       "      <td>Miss Jerry</td>\n",
       "      <td>Miss Jerry</td>\n",
       "      <td>0</td>\n",
       "      <td>1894</td>\n",
       "      <td>\\N</td>\n",
       "      <td>45</td>\n",
       "      <td>Romance</td>\n",
       "    </tr>\n",
       "    <tr>\n",
       "      <th>1</th>\n",
       "      <td>tt0000147</td>\n",
       "      <td>movie</td>\n",
       "      <td>The Corbett-Fitzsimmons Fight</td>\n",
       "      <td>The Corbett-Fitzsimmons Fight</td>\n",
       "      <td>0</td>\n",
       "      <td>1897</td>\n",
       "      <td>\\N</td>\n",
       "      <td>20</td>\n",
       "      <td>Documentary,News,Sport</td>\n",
       "    </tr>\n",
       "    <tr>\n",
       "      <th>2</th>\n",
       "      <td>tt0000335</td>\n",
       "      <td>movie</td>\n",
       "      <td>Soldiers of the Cross</td>\n",
       "      <td>Soldiers of the Cross</td>\n",
       "      <td>0</td>\n",
       "      <td>1900</td>\n",
       "      <td>\\N</td>\n",
       "      <td>\\N</td>\n",
       "      <td>Biography,Drama</td>\n",
       "    </tr>\n",
       "    <tr>\n",
       "      <th>3</th>\n",
       "      <td>tt0000502</td>\n",
       "      <td>movie</td>\n",
       "      <td>Bohemios</td>\n",
       "      <td>Bohemios</td>\n",
       "      <td>0</td>\n",
       "      <td>1905</td>\n",
       "      <td>\\N</td>\n",
       "      <td>100</td>\n",
       "      <td>\\N</td>\n",
       "    </tr>\n",
       "    <tr>\n",
       "      <th>4</th>\n",
       "      <td>tt0000574</td>\n",
       "      <td>movie</td>\n",
       "      <td>The Story of the Kelly Gang</td>\n",
       "      <td>The Story of the Kelly Gang</td>\n",
       "      <td>0</td>\n",
       "      <td>1906</td>\n",
       "      <td>\\N</td>\n",
       "      <td>70</td>\n",
       "      <td>Biography,Crime,Drama</td>\n",
       "    </tr>\n",
       "  </tbody>\n",
       "</table>\n",
       "</div>"
      ],
      "text/plain": [
       "      tconst titleType                   primaryTitle  \\\n",
       "0  tt0000009     movie                     Miss Jerry   \n",
       "1  tt0000147     movie  The Corbett-Fitzsimmons Fight   \n",
       "2  tt0000335     movie          Soldiers of the Cross   \n",
       "3  tt0000502     movie                       Bohemios   \n",
       "4  tt0000574     movie    The Story of the Kelly Gang   \n",
       "\n",
       "                   originalTitle  isAdult startYear endYear runtimeMinutes  \\\n",
       "0                     Miss Jerry        0      1894      \\N             45   \n",
       "1  The Corbett-Fitzsimmons Fight        0      1897      \\N             20   \n",
       "2          Soldiers of the Cross        0      1900      \\N             \\N   \n",
       "3                       Bohemios        0      1905      \\N            100   \n",
       "4    The Story of the Kelly Gang        0      1906      \\N             70   \n",
       "\n",
       "                   genres  \n",
       "0                 Romance  \n",
       "1  Documentary,News,Sport  \n",
       "2         Biography,Drama  \n",
       "3                      \\N  \n",
       "4   Biography,Crime,Drama  "
      ]
     },
     "execution_count": 46,
     "metadata": {},
     "output_type": "execute_result"
    }
   ],
   "source": [
    "df.head()\n"
   ]
  },
  {
   "cell_type": "markdown",
   "metadata": {},
   "source": [
    "### Descriptive Stats"
   ]
  },
  {
   "cell_type": "code",
   "execution_count": 50,
   "metadata": {},
   "outputs": [
    {
     "name": "stdout",
     "output_type": "stream",
     "text": [
      "total # movies: 467430\n"
     ]
    }
   ],
   "source": [
    "# total number of rows\n",
    "n = df['titleType'].count()\n",
    "print('total # movies: {:d}' .format(n))"
   ]
  },
  {
   "cell_type": "code",
   "execution_count": 51,
   "metadata": {},
   "outputs": [
    {
     "name": "stdout",
     "output_type": "stream",
     "text": [
      "Percent of missing genres: 17.55%\n"
     ]
    }
   ],
   "source": [
    "# Percent of missing genres \n",
    "pr_missing = df.loc[df['genres']=='\\\\N']['genres'].count()/df['genres'].count()*100\n",
    "print('Percent of missing genres: {:.2f}%' .format(pr_missing))"
   ]
  },
  {
   "cell_type": "code",
   "execution_count": 183,
   "metadata": {},
   "outputs": [],
   "source": [
    "#filter out missing genres \n",
    "flt_df=df.loc[df['genres']!='\\\\N']\n"
   ]
  },
  {
   "cell_type": "code",
   "execution_count": 193,
   "metadata": {},
   "outputs": [
    {
     "data": {
      "image/png": "[encoded data removed]",
      "text/plain": [
       "<matplotlib.figure.Figure at 0x1610e73c8>"
      ]
     },
     "metadata": {},
     "output_type": "display_data"
    }
   ],
   "source": [
    "# count # of movies in each genre, and then pick top 10 genres \n",
    "genre, count = list(zip(*Counter(','.join(flt_df['genres']).replace(' ', '').split(',')).most_common(10)))\n",
    "\n",
    "# Make a nicer looking pie chart\n",
    "cmap = plt.cm.terrain\n",
    "colors = cmap(np.linspace(0., 1., len(genre)))\n",
    "plt.figure(figsize = (8, 8))\n",
    "plt.pie(count, labels=genre, autopct='%.0f%%', shadow=True,colors=colors,pctdistance=0.8,startangle=50)\n",
    "# Set aspect ratio to be equal so that pie is drawn as a circle.\n",
    "plt.axis('equal')\n",
    "plt.show()"
   ]
  },
  {
   "cell_type": "code",
   "execution_count": 321,
   "metadata": {},
   "outputs": [
    {
     "name": "stdout",
     "output_type": "stream",
     "text": [
      "Percent of missing runtimeMinutes  31.83%\n"
     ]
    }
   ],
   "source": [
    "prc_runtime=flt_df.loc[flt_df['runtimeMinutes']=='\\\\N']['runtimeMinutes'].count()/flt_df['runtimeMinutes'].count()*100\n",
    "print('Percent of missing runtimeMinutes  {:.2f}%'.format(prc_runtime))"
   ]
  },
  {
   "cell_type": "code",
   "execution_count": 209,
   "metadata": {},
   "outputs": [
    {
     "data": {
      "text/plain": [
       "count    262726.00000\n",
       "mean         87.75184\n",
       "std          51.66225\n",
       "min           1.00000\n",
       "25%          74.00000\n",
       "50%          89.00000\n",
       "75%          99.00000\n",
       "max       14400.00000\n",
       "Name: runtimeMinutes, dtype: float64"
      ]
     },
     "execution_count": 209,
     "metadata": {},
     "output_type": "execute_result"
    }
   ],
   "source": [
    "runtime=flt_df.loc[flt_df['runtimeMinutes']!='\\\\N'].runtimeMinutes.astype(int)\n",
    "runtime.describe()"
   ]
  },
  {
   "cell_type": "code",
   "execution_count": 309,
   "metadata": {},
   "outputs": [
    {
     "data": {
      "text/plain": [
       "count    262726.00000\n",
       "mean         87.75184\n",
       "std          51.66225\n",
       "min           1.00000\n",
       "25%          74.00000\n",
       "50%          89.00000\n",
       "75%          99.00000\n",
       "max       14400.00000\n",
       "Name: runtimeMinutes, dtype: float64"
      ]
     },
     "execution_count": 309,
     "metadata": {},
     "output_type": "execute_result"
    }
   ],
   "source": [
    "runtime.describe()"
   ]
  },
  {
   "cell_type": "code",
   "execution_count": 339,
   "metadata": {},
   "outputs": [
    {
     "data": {
      "text/plain": [
       "14"
      ]
     },
     "execution_count": 339,
     "metadata": {},
     "output_type": "execute_result"
    }
   ],
   "source": [
    "max_3sd=runtime.mean()+runtime.std()*3\n",
    "min_3sd=runtime.mean()-runtime.std()*3 \n",
    "# number of outliers\n",
    "runtime[runtime>within_3sd].count()\n"
   ]
  },
  {
   "cell_type": "code",
   "execution_count": 340,
   "metadata": {},
   "outputs": [
    {
     "data": {
      "image/png": "[encoded data removed]",
      "text/plain": [
       "<matplotlib.figure.Figure at 0x1ee778668>"
      ]
     },
     "metadata": {},
     "output_type": "display_data"
    }
   ],
   "source": [
    "# movies runtime within 3 standard deviation \n",
    "plt.hist(runtime,bins=range(round(min_3sd),round(max_3sd),round(runtime.std())))\n",
    "plt.grid(True)\n",
    "plt.title('Movies Runtime within 3 standard deviation ')\n",
    "plt.xlabel('Runtime in Minutes')\n",
    "plt.show()"
   ]
  },
  {
   "cell_type": "code",
   "execution_count": 322,
   "metadata": {},
   "outputs": [
    {
     "name": "stdout",
     "output_type": "stream",
     "text": [
      "Percent of missing startYear: 8.75%\n"
     ]
    }
   ],
   "source": [
    "# count the # of missing startYear\n",
    "pr_missing_sdate= flt_df.loc[flt_df['startYear']=='\\\\N']['startYear'].count()/flt_df['startYear'].count()*100\n",
    "print('Percent of missing startYear: {:.2f}%'.format(pr_missing_sdate)) "
   ]
  },
  {
   "cell_type": "code",
   "execution_count": 288,
   "metadata": {},
   "outputs": [
    {
     "data": {
      "text/plain": [
       "count    351672.000000\n",
       "mean       1989.278956\n",
       "std          28.148937\n",
       "min        1894.000000\n",
       "25%        1972.000000\n",
       "50%        2001.000000\n",
       "75%        2012.000000\n",
       "max        2115.000000\n",
       "Name: startYear, dtype: float64"
      ]
     },
     "execution_count": 288,
     "metadata": {},
     "output_type": "execute_result"
    }
   ],
   "source": [
    "start_year=flt_df.loc[flt_df['startYear']!='\\\\N'].startYear.astype(int)\n",
    "start_year.describe()"
   ]
  },
  {
   "cell_type": "code",
   "execution_count": 295,
   "metadata": {},
   "outputs": [
    {
     "data": {
      "text/plain": [
       "6564"
      ]
     },
     "execution_count": 295,
     "metadata": {},
     "output_type": "execute_result"
    }
   ],
   "source": [
    "# number of movies with start_year > 2017\n",
    "start_year[start_year>2017].count()"
   ]
  },
  {
   "cell_type": "code",
   "execution_count": 318,
   "metadata": {},
   "outputs": [
    {
     "data": {
      "text/plain": [
       "243826"
      ]
     },
     "execution_count": 318,
     "metadata": {},
     "output_type": "execute_result"
    }
   ],
   "source": [
    "# number of movies between 2000-2010 \n",
    "start_year[(start_year<=2000) |(start_year<=2010) ].count()"
   ]
  },
  {
   "cell_type": "code",
   "execution_count": 341,
   "metadata": {},
   "outputs": [
    {
     "data": {
      "image/png": "[encoded data removed]",
      "text/plain": [
       "<matplotlib.figure.Figure at 0x15116b0b8>"
      ]
     },
     "metadata": {},
     "output_type": "display_data"
    }
   ],
   "source": [
    "max_3sd=start_year.mean()+start_year.std()*3\n",
    "min_3sd=start_year.mean()-start_year.std()*3 \n",
    "plt.hist(start_year,bins=range(round(min_3sd),round(max_3sd),round(start_year.std())))\n",
    "plt.title('Movies StartYear within 3 standard deviation ')\n",
    "plt.xlabel('Start Year')\n",
    "plt.show()\n"
   ]
  },
  {
   "cell_type": "markdown",
   "metadata": {},
   "source": [
    "### So what do we know about this data set now?\n",
    "- A large percentage of runtimeMinutes with missing values.\n",
    "- Most of the movies are set in the early 2000s\n",
    "- The top 10 genres: \n",
    "('Drama',\n",
    " 'Documentary',\n",
    " 'Comedy',\n",
    " 'Action',\n",
    " 'Romance',\n",
    " 'Thriller',\n",
    " 'Crime',\n",
    " 'Horror',\n",
    " 'Adventure',\n",
    " 'Family')"
   ]
  },
  {
   "cell_type": "code",
   "execution_count": null,
   "metadata": {
    "collapsed": true
   },
   "outputs": [],
   "source": []
  }
 ],
 "metadata": {
  "kernelspec": {
   "display_name": "Python 3",
   "language": "python",
   "name": "python3"
  },
  "language_info": {
   "codemirror_mode": {
    "name": "ipython",
    "version": 3
   },
   "file_extension": ".py",
   "mimetype": "text/x-python",
   "name": "python",
   "nbconvert_exporter": "python",
   "pygments_lexer": "ipython3",
   "version": "3.6.1"
  }
 },
 "nbformat": 4,
 "nbformat_minor": 2
}
